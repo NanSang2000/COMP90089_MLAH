{
 "cells": [
  {
   "cell_type": "code",
   "execution_count": 110,
   "metadata": {
    "id": "ofU59xluTupt"
   },
   "outputs": [
    {
     "name": "stderr",
     "output_type": "stream",
     "text": [
      "Your browser has been opened to visit:\n",
      "\n",
      "    https://accounts.google.com/o/oauth2/auth?response_type=code&client_id=764086051850-6qr4p6gpi6hn506pt8ejuq83di341hur.apps.googleusercontent.com&redirect_uri=http%3A%2F%2Flocalhost%3A8085%2F&scope=openid+https%3A%2F%2Fwww.googleapis.com%2Fauth%2Fuserinfo.email+https%3A%2F%2Fwww.googleapis.com%2Fauth%2Fcloud-platform+https%3A%2F%2Fwww.googleapis.com%2Fauth%2Fsqlservice.login&state=5oeiMRdKxqmWTooVZme2fBxWId1GdK&access_type=offline&code_challenge=Sfq-u31YZBjCV7PSpdMyVGQj1vWUvnn2yC-9sUW2aNE&code_challenge_method=S256\n",
      "\n",
      "\n",
      "Credentials saved to file: [/Users/zhuyu/.config/gcloud/application_default_credentials.json]\n",
      "\n",
      "These credentials will be used by any library that requests Application Default Credentials (ADC).\n",
      "\n",
      "Quota project \"carbon-virtue-378402\" was added to ADC which can be used by Google client libraries for billing and quota. Note that some services may still bill the project owning the resource.\n"
     ]
    },
    {
     "data": {
      "text/plain": [
       "CompletedProcess(args=['gcloud', 'auth', 'application-default', 'login'], returncode=0)"
      ]
     },
     "execution_count": 110,
     "metadata": {},
     "output_type": "execute_result"
    }
   ],
   "source": [
    "# Connect to the Google Account\n",
    "\n",
    "import subprocess\n",
    "# Install the Google Cloud SDK\n",
    "subprocess.run([\"gcloud\", \"auth\", \"application-default\", \"login\"])"
   ]
  },
  {
   "cell_type": "code",
   "execution_count": 111,
   "metadata": {
    "id": "MQdMHMhVUV1G"
   },
   "outputs": [],
   "source": [
    "from google.cloud import bigquery\n",
    "import pandas as pd\n",
    "import os\n",
    "\n",
    "# Initialize BigQuery client\n",
    "client = bigquery.Client()\n",
    "\n",
    "# Function to run queries and return DataFrame\n",
    "def run_query(query):\n",
    "    return client.query(query).to_dataframe()"
   ]
  },
  {
   "cell_type": "code",
   "execution_count": 112,
   "metadata": {
    "colab": {
     "base_uri": "https://localhost:8080/"
    },
    "id": "QkUHA5NCF3Kv",
    "outputId": "7f602036-4763-4bec-acab-60b5ea6b3447"
   },
   "outputs": [
    {
     "name": "stderr",
     "output_type": "stream",
     "text": [
      "/Users/zhuyu/anaconda3/envs/COMP90089/lib/python3.12/site-packages/google/cloud/bigquery/table.py:1727: UserWarning: BigQuery Storage module not found, fetch data with the REST endpoint instead.\n",
      "  warnings.warn(\n"
     ]
    },
    {
     "name": "stdout",
     "output_type": "stream",
     "text": [
      "   subject_id   hadm_id           admittime           dischtime gender  \\\n",
      "0    10000032  22841357 2180-06-26 18:27:00 2180-06-27 18:49:00      F   \n",
      "1    10000032  29079034 2180-07-23 12:35:00 2180-07-25 17:55:00      F   \n",
      "2    10000032  25742920 2180-08-05 23:44:00 2180-08-07 17:50:00      F   \n",
      "3    10000032  22595853 2180-05-06 22:23:00 2180-05-07 17:15:00      F   \n",
      "4    10000068  25022803 2160-03-03 23:16:00 2160-03-04 06:26:00      F   \n",
      "\n",
      "   approximate_age_at_admission   race  actual_age  in_hospital_death  \\\n",
      "0                            52  WHITE          52              False   \n",
      "1                            52  WHITE          52              False   \n",
      "2                            52  WHITE          52              False   \n",
      "3                            52  WHITE          52              False   \n",
      "4                            19  WHITE          19              False   \n",
      "\n",
      "   length_of_stay  \n",
      "0        1.015278  \n",
      "1        2.222222  \n",
      "2        1.754167  \n",
      "3        0.786111  \n",
      "4        0.298611  \n",
      "Number of rows in the dataset: 431089\n"
     ]
    }
   ],
   "source": [
    "# 1. Get basic patient info (admissions + demographics (excluding marital_status) + death status)\n",
    "patient_info_query = \"\"\"\n",
    "SELECT adm.subject_id, adm.hadm_id, adm.admittime, adm.dischtime, \n",
    "       pat.gender, pat.anchor_age AS approximate_age_at_admission, \n",
    "       adm.race, adm.hospital_expire_flag,\n",
    "       DATETIME_DIFF(adm.admittime, DATETIME(pat.anchor_year, 1, 1, 0, 0, 0), YEAR) + pat.anchor_age AS actual_age\n",
    "FROM `physionet-data.mimiciv_hosp.admissions` AS adm\n",
    "JOIN `physionet-data.mimiciv_hosp.patients` AS pat\n",
    "ON adm.subject_id = pat.subject_id\n",
    "WHERE adm.admittime IS NOT NULL\n",
    "ORDER BY subject_id\n",
    "\"\"\"\n",
    "patient_info_df = run_query(patient_info_query)\n",
    "\n",
    "# Set in-hospital death status\n",
    "patient_info_df['in_hospital_death'] = patient_info_df['hospital_expire_flag'] == 1\n",
    "patient_info_df = patient_info_df.drop(columns=['hospital_expire_flag'])\n",
    "\n",
    "# Calculate length of stay and keep data with positive L.O.S\n",
    "patient_info_df['admittime'] = pd.to_datetime(patient_info_df['admittime'])\n",
    "patient_info_df['dischtime'] = pd.to_datetime(patient_info_df['dischtime'])\n",
    "patient_info_df['length_of_stay'] = (patient_info_df['dischtime'] - patient_info_df['admittime']).dt.total_seconds() / (60 * 60 * 24)\n",
    "patient_info_df = patient_info_df[patient_info_df['length_of_stay'] > 0]\n",
    "\n",
    "# Display a sample of the resulting DataFrame\n",
    "print(patient_info_df.head())\n",
    "print(f\"Number of rows in the dataset: {patient_info_df.shape[0]}\")"
   ]
  },
  {
   "cell_type": "code",
   "execution_count": 113,
   "metadata": {
    "colab": {
     "base_uri": "https://localhost:8080/",
     "height": 423
    },
    "id": "rKheWqKeGnMZ",
    "outputId": "14cd3905-30c4-439e-f2f8-d8bdecf85b9a"
   },
   "outputs": [
    {
     "data": {
      "text/html": [
       "<div>\n",
       "<style scoped>\n",
       "    .dataframe tbody tr th:only-of-type {\n",
       "        vertical-align: middle;\n",
       "    }\n",
       "\n",
       "    .dataframe tbody tr th {\n",
       "        vertical-align: top;\n",
       "    }\n",
       "\n",
       "    .dataframe thead th {\n",
       "        text-align: right;\n",
       "    }\n",
       "</style>\n",
       "<table border=\"1\" class=\"dataframe\">\n",
       "  <thead>\n",
       "    <tr style=\"text-align: right;\">\n",
       "      <th></th>\n",
       "      <th>subject_id</th>\n",
       "      <th>hadm_id</th>\n",
       "      <th>admittime</th>\n",
       "      <th>dischtime</th>\n",
       "      <th>gender</th>\n",
       "      <th>approximate_age_at_admission</th>\n",
       "      <th>race</th>\n",
       "      <th>actual_age</th>\n",
       "      <th>in_hospital_death</th>\n",
       "      <th>length_of_stay</th>\n",
       "    </tr>\n",
       "  </thead>\n",
       "  <tbody>\n",
       "    <tr>\n",
       "      <th>0</th>\n",
       "      <td>10000032</td>\n",
       "      <td>22841357</td>\n",
       "      <td>2180-06-26 18:27:00</td>\n",
       "      <td>2180-06-27 18:49:00</td>\n",
       "      <td>F</td>\n",
       "      <td>52</td>\n",
       "      <td>WHITE</td>\n",
       "      <td>52</td>\n",
       "      <td>False</td>\n",
       "      <td>1.015278</td>\n",
       "    </tr>\n",
       "    <tr>\n",
       "      <th>1</th>\n",
       "      <td>10000032</td>\n",
       "      <td>29079034</td>\n",
       "      <td>2180-07-23 12:35:00</td>\n",
       "      <td>2180-07-25 17:55:00</td>\n",
       "      <td>F</td>\n",
       "      <td>52</td>\n",
       "      <td>WHITE</td>\n",
       "      <td>52</td>\n",
       "      <td>False</td>\n",
       "      <td>2.222222</td>\n",
       "    </tr>\n",
       "    <tr>\n",
       "      <th>2</th>\n",
       "      <td>10000032</td>\n",
       "      <td>25742920</td>\n",
       "      <td>2180-08-05 23:44:00</td>\n",
       "      <td>2180-08-07 17:50:00</td>\n",
       "      <td>F</td>\n",
       "      <td>52</td>\n",
       "      <td>WHITE</td>\n",
       "      <td>52</td>\n",
       "      <td>False</td>\n",
       "      <td>1.754167</td>\n",
       "    </tr>\n",
       "    <tr>\n",
       "      <th>3</th>\n",
       "      <td>10000032</td>\n",
       "      <td>22595853</td>\n",
       "      <td>2180-05-06 22:23:00</td>\n",
       "      <td>2180-05-07 17:15:00</td>\n",
       "      <td>F</td>\n",
       "      <td>52</td>\n",
       "      <td>WHITE</td>\n",
       "      <td>52</td>\n",
       "      <td>False</td>\n",
       "      <td>0.786111</td>\n",
       "    </tr>\n",
       "    <tr>\n",
       "      <th>4</th>\n",
       "      <td>10000068</td>\n",
       "      <td>25022803</td>\n",
       "      <td>2160-03-03 23:16:00</td>\n",
       "      <td>2160-03-04 06:26:00</td>\n",
       "      <td>F</td>\n",
       "      <td>19</td>\n",
       "      <td>WHITE</td>\n",
       "      <td>19</td>\n",
       "      <td>False</td>\n",
       "      <td>0.298611</td>\n",
       "    </tr>\n",
       "    <tr>\n",
       "      <th>...</th>\n",
       "      <td>...</td>\n",
       "      <td>...</td>\n",
       "      <td>...</td>\n",
       "      <td>...</td>\n",
       "      <td>...</td>\n",
       "      <td>...</td>\n",
       "      <td>...</td>\n",
       "      <td>...</td>\n",
       "      <td>...</td>\n",
       "      <td>...</td>\n",
       "    </tr>\n",
       "    <tr>\n",
       "      <th>431226</th>\n",
       "      <td>19999828</td>\n",
       "      <td>29734428</td>\n",
       "      <td>2147-07-18 16:23:00</td>\n",
       "      <td>2147-08-04 18:10:00</td>\n",
       "      <td>F</td>\n",
       "      <td>46</td>\n",
       "      <td>WHITE</td>\n",
       "      <td>46</td>\n",
       "      <td>False</td>\n",
       "      <td>17.074306</td>\n",
       "    </tr>\n",
       "    <tr>\n",
       "      <th>431227</th>\n",
       "      <td>19999828</td>\n",
       "      <td>25744818</td>\n",
       "      <td>2149-01-08 16:44:00</td>\n",
       "      <td>2149-01-18 17:00:00</td>\n",
       "      <td>F</td>\n",
       "      <td>46</td>\n",
       "      <td>WHITE</td>\n",
       "      <td>48</td>\n",
       "      <td>False</td>\n",
       "      <td>10.011111</td>\n",
       "    </tr>\n",
       "    <tr>\n",
       "      <th>431228</th>\n",
       "      <td>19999840</td>\n",
       "      <td>26071774</td>\n",
       "      <td>2164-07-25 00:27:00</td>\n",
       "      <td>2164-07-28 12:15:00</td>\n",
       "      <td>M</td>\n",
       "      <td>58</td>\n",
       "      <td>WHITE</td>\n",
       "      <td>58</td>\n",
       "      <td>False</td>\n",
       "      <td>3.491667</td>\n",
       "    </tr>\n",
       "    <tr>\n",
       "      <th>431229</th>\n",
       "      <td>19999840</td>\n",
       "      <td>21033226</td>\n",
       "      <td>2164-09-10 13:47:00</td>\n",
       "      <td>2164-09-17 13:42:00</td>\n",
       "      <td>M</td>\n",
       "      <td>58</td>\n",
       "      <td>WHITE</td>\n",
       "      <td>58</td>\n",
       "      <td>True</td>\n",
       "      <td>6.996528</td>\n",
       "    </tr>\n",
       "    <tr>\n",
       "      <th>431230</th>\n",
       "      <td>19999987</td>\n",
       "      <td>23865745</td>\n",
       "      <td>2145-11-02 21:38:00</td>\n",
       "      <td>2145-11-11 12:57:00</td>\n",
       "      <td>F</td>\n",
       "      <td>57</td>\n",
       "      <td>UNKNOWN</td>\n",
       "      <td>57</td>\n",
       "      <td>False</td>\n",
       "      <td>8.638194</td>\n",
       "    </tr>\n",
       "  </tbody>\n",
       "</table>\n",
       "<p>431089 rows × 10 columns</p>\n",
       "</div>"
      ],
      "text/plain": [
       "        subject_id   hadm_id           admittime           dischtime gender  \\\n",
       "0         10000032  22841357 2180-06-26 18:27:00 2180-06-27 18:49:00      F   \n",
       "1         10000032  29079034 2180-07-23 12:35:00 2180-07-25 17:55:00      F   \n",
       "2         10000032  25742920 2180-08-05 23:44:00 2180-08-07 17:50:00      F   \n",
       "3         10000032  22595853 2180-05-06 22:23:00 2180-05-07 17:15:00      F   \n",
       "4         10000068  25022803 2160-03-03 23:16:00 2160-03-04 06:26:00      F   \n",
       "...            ...       ...                 ...                 ...    ...   \n",
       "431226    19999828  29734428 2147-07-18 16:23:00 2147-08-04 18:10:00      F   \n",
       "431227    19999828  25744818 2149-01-08 16:44:00 2149-01-18 17:00:00      F   \n",
       "431228    19999840  26071774 2164-07-25 00:27:00 2164-07-28 12:15:00      M   \n",
       "431229    19999840  21033226 2164-09-10 13:47:00 2164-09-17 13:42:00      M   \n",
       "431230    19999987  23865745 2145-11-02 21:38:00 2145-11-11 12:57:00      F   \n",
       "\n",
       "        approximate_age_at_admission     race  actual_age  in_hospital_death  \\\n",
       "0                                 52    WHITE          52              False   \n",
       "1                                 52    WHITE          52              False   \n",
       "2                                 52    WHITE          52              False   \n",
       "3                                 52    WHITE          52              False   \n",
       "4                                 19    WHITE          19              False   \n",
       "...                              ...      ...         ...                ...   \n",
       "431226                            46    WHITE          46              False   \n",
       "431227                            46    WHITE          48              False   \n",
       "431228                            58    WHITE          58              False   \n",
       "431229                            58    WHITE          58               True   \n",
       "431230                            57  UNKNOWN          57              False   \n",
       "\n",
       "        length_of_stay  \n",
       "0             1.015278  \n",
       "1             2.222222  \n",
       "2             1.754167  \n",
       "3             0.786111  \n",
       "4             0.298611  \n",
       "...                ...  \n",
       "431226       17.074306  \n",
       "431227       10.011111  \n",
       "431228        3.491667  \n",
       "431229        6.996528  \n",
       "431230        8.638194  \n",
       "\n",
       "[431089 rows x 10 columns]"
      ]
     },
     "execution_count": 113,
     "metadata": {},
     "output_type": "execute_result"
    }
   ],
   "source": [
    "patient_info_df"
   ]
  },
  {
   "cell_type": "code",
   "execution_count": 114,
   "metadata": {
    "colab": {
     "base_uri": "https://localhost:8080/"
    },
    "id": "Adfsmdl1G3vL",
    "outputId": "2aae31e6-709b-4955-f16d-4f2932a10ef5"
   },
   "outputs": [
    {
     "name": "stdout",
     "output_type": "stream",
     "text": [
      "Number of patients: 180677\n"
     ]
    }
   ],
   "source": [
    "# Count number of patients\n",
    "num_patients = patient_info_df['subject_id'].nunique()\n",
    "print(f\"Number of patients: {num_patients}\")"
   ]
  },
  {
   "cell_type": "code",
   "execution_count": 115,
   "metadata": {
    "colab": {
     "base_uri": "https://localhost:8080/"
    },
    "id": "NjSxcGc1xOX6",
    "outputId": "04dee535-373c-486d-c8af-a72572388a38"
   },
   "outputs": [
    {
     "name": "stderr",
     "output_type": "stream",
     "text": [
      "/Users/zhuyu/anaconda3/envs/COMP90089/lib/python3.12/site-packages/google/cloud/bigquery/table.py:1727: UserWarning: BigQuery Storage module not found, fetch data with the REST endpoint instead.\n",
      "  warnings.warn(\n"
     ]
    },
    {
     "name": "stdout",
     "output_type": "stream",
     "text": [
      "   itemid   label category\n",
      "0  225672  Lipase     Labs\n"
     ]
    },
    {
     "name": "stderr",
     "output_type": "stream",
     "text": [
      "/Users/zhuyu/anaconda3/envs/COMP90089/lib/python3.12/site-packages/google/cloud/bigquery/table.py:1727: UserWarning: BigQuery Storage module not found, fetch data with the REST endpoint instead.\n",
      "  warnings.warn(\n"
     ]
    },
    {
     "name": "stdout",
     "output_type": "stream",
     "text": [
      "   itemid               label             fluid\n",
      "0   50956              Lipase             Blood\n",
      "1   50844     Lipase, Ascites           Ascites\n",
      "2   51055     Lipase, Pleural           Pleural\n",
      "3   51036  Lipase, Body Fluid  Other Body Fluid\n"
     ]
    },
    {
     "name": "stderr",
     "output_type": "stream",
     "text": [
      "/Users/zhuyu/anaconda3/envs/COMP90089/lib/python3.12/site-packages/google/cloud/bigquery/table.py:1727: UserWarning: BigQuery Storage module not found, fetch data with the REST endpoint instead.\n",
      "  warnings.warn(\n"
     ]
    }
   ],
   "source": [
    "# 2. Get high lipase level patients\n",
    "\n",
    "# Get item IDs for lipase tests in ICU\n",
    "lipase_item_query_icu = \"\"\"\n",
    "SELECT itemid, label, category\n",
    "FROM `physionet-data.mimiciv_icu.d_items`\n",
    "WHERE LOWER(label) LIKE '%lipase%'\n",
    "\"\"\"\n",
    "lipase_items_df_icu = run_query(lipase_item_query_icu)\n",
    "print(lipase_items_df_icu)\n",
    "lipase_itemids_icu = \"225672\"  # Lipase item IDs for ICU\n",
    "\n",
    "# Get item IDs for lipase tests in hosp\n",
    "lipase_item_query_hosp = \"\"\"\n",
    "SELECT itemid, label, fluid\n",
    "FROM `physionet-data.mimiciv_hosp.d_labitems`\n",
    "WHERE LOWER(label) LIKE '%lipase%'\n",
    "\"\"\"\n",
    "lipase_items_df_hosp = run_query(lipase_item_query_hosp)\n",
    "print(lipase_items_df_hosp)\n",
    "lipase_items_hosp = [50956, 50844, 51055, 51036] # blood and other fluid # Lipase item IDs [50956]# only blood\n",
    "\n",
    "# Retrieve lipase values from ICU\n",
    "lipase_values_query_icu = f\"\"\"\n",
    "SELECT subject_id, hadm_id, charttime, valuenum AS lipase_level\n",
    "FROM `physionet-data.mimiciv_icu.chartevents`\n",
    "WHERE itemid IN ({lipase_itemids_icu})\n",
    "ORDER BY subject_id, charttime\n",
    "\"\"\"\n",
    "lipase_values_df_icu = run_query(lipase_values_query_icu)\n",
    "\n",
    "# Retrieve lipase values from hosp\n",
    "lipase_values_query_hosp = f\"\"\"\n",
    "SELECT subject_id, hadm_id, charttime, valuenum AS lipase_level\n",
    "FROM `physionet-data.mimiciv_hosp.labevents`\n",
    "WHERE itemid IN ({', '.join(map(str, lipase_items_hosp))})\n",
    "ORDER BY subject_id, charttime\n",
    "\"\"\"\n",
    "lipase_values_df_hosp = run_query(lipase_values_query_hosp)\n",
    "\n",
    "# Combine ICU and hosp lipase records, retaining the earliest record for each subject_id and hadm_id\n",
    "lipase_values_df = pd.concat([lipase_values_df_icu, lipase_values_df_hosp], ignore_index=True)\n",
    "lipase_values_df = lipase_values_df.sort_values(by=['subject_id', 'hadm_id', 'charttime']).drop_duplicates(subset=['subject_id', 'hadm_id'], keep='first')\n",
    "\n",
    "# Merge with patient info and clean data\n",
    "lipase_values_df = pd.merge(lipase_values_df, patient_info_df.copy(), on=['subject_id', 'hadm_id'], how='left', suffixes=('', '_lipase'))\n",
    "lipase_values_df.dropna(subset=['actual_age', 'lipase_level'], inplace=True)\n",
    "\n",
    "# Identify patients with high lipase levels\n",
    "def check_lipase(row):\n",
    "    upper_limit = 140 if row['actual_age'] < 60 else 151\n",
    "    return row['lipase_level'] >= 3 * upper_limit\n",
    "\n",
    "high_lipase_df = lipase_values_df[lipase_values_df.apply(check_lipase, axis=1)]"
   ]
  },
  {
   "cell_type": "code",
   "execution_count": 116,
   "metadata": {
    "colab": {
     "base_uri": "https://localhost:8080/",
     "height": 423
    },
    "id": "Tc3SXPkra0Gq",
    "outputId": "ee86788e-544a-488d-c8e9-5b282ac175ee"
   },
   "outputs": [
    {
     "name": "stdout",
     "output_type": "stream",
     "text": [
      "     subject_id   hadm_id           charttime  lipase_level  \\\n",
      "57     10004606  29242151 2159-02-20 18:30:00        1222.0   \n",
      "94     10006431  24638489 2129-01-23 23:36:00         508.0   \n",
      "227    10017531  22580355 2159-09-22 20:56:00        1164.0   \n",
      "265    10021357  25937617 2144-12-30 06:55:00        1249.0   \n",
      "449    10037818  21016472 2189-09-15 23:23:00        2519.0   \n",
      "\n",
      "              admittime           dischtime gender  \\\n",
      "57  2159-02-20 13:43:00 2159-03-06 16:51:00      F   \n",
      "94  2129-01-24 01:08:00 2129-01-30 16:50:00      F   \n",
      "227 2159-09-22 19:30:00 2159-10-24 13:40:00      M   \n",
      "265 2144-12-27 19:41:00 2145-01-04 19:54:00      F   \n",
      "449 2189-09-16 02:13:00 2189-09-18 01:10:00      F   \n",
      "\n",
      "     approximate_age_at_admission   race  actual_age  in_hospital_death  \\\n",
      "57                             64  WHITE          64              False   \n",
      "94                             66  WHITE          67              False   \n",
      "227                            63  WHITE          64              False   \n",
      "265                            91  WHITE          91              False   \n",
      "449                            61  WHITE          61              False   \n",
      "\n",
      "     length_of_stay  \n",
      "57        14.130556  \n",
      "94         6.654167  \n",
      "227       31.756944  \n",
      "265        8.009028  \n",
      "449        1.956250  \n",
      "Number of high lipase cases: 1774\n",
      "Number of unique patients with high lipase levels: 1629\n"
     ]
    }
   ],
   "source": [
    "# Display the result\n",
    "print(high_lipase_df.head())\n",
    "print(f\"Number of high lipase cases: {high_lipase_df.shape[0]}\")\n",
    "print(f\"Number of unique patients with high lipase levels: {high_lipase_df['subject_id'].nunique()}\")"
   ]
  },
  {
   "cell_type": "code",
   "execution_count": 117,
   "metadata": {},
   "outputs": [],
   "source": [
    "# Generate a CSV file with the high lipase cases\n",
    "high_lipase_df.to_csv('high_lipase_cases.csv', index=False)"
   ]
  },
  {
   "cell_type": "code",
   "execution_count": 118,
   "metadata": {},
   "outputs": [
    {
     "name": "stderr",
     "output_type": "stream",
     "text": [
      "/Users/zhuyu/anaconda3/envs/COMP90089/lib/python3.12/site-packages/google/cloud/bigquery/table.py:1727: UserWarning: BigQuery Storage module not found, fetch data with the REST endpoint instead.\n",
      "  warnings.warn(\n"
     ]
    },
    {
     "name": "stdout",
     "output_type": "stream",
     "text": [
      "Amylase Items in hosp:\n",
      "    itemid                            label                fluid\n",
      "0    50867                          Amylase                Blood\n",
      "1    53087                          Amylase                Blood\n",
      "2    51930                   Amylase, Stool                Stool\n",
      "3    51072                   Amylase, Urine                Urine\n",
      "4    51073  Amylase/Creatinine Ratio, Urine                Urine\n",
      "5    51963     Amylase/Creatinine Clearance                Urine\n",
      "6    51964                   Amylase, Serum                Urine\n",
      "7    51999                    Urine Amylase                Urine\n",
      "8    50836                 Amylase, Ascites              Ascites\n",
      "9    51047                 Amylase, Pleural              Pleural\n",
      "10   51020             Amylase, Joint Fluid          Joint Fluid\n",
      "11   51026              Amylase, Body Fluid     Other Body Fluid\n",
      "12   51780                     Amylase, CSF  Cerebrospinal Fluid\n"
     ]
    },
    {
     "name": "stderr",
     "output_type": "stream",
     "text": [
      "/Users/zhuyu/anaconda3/envs/COMP90089/lib/python3.12/site-packages/google/cloud/bigquery/table.py:1727: UserWarning: BigQuery Storage module not found, fetch data with the REST endpoint instead.\n",
      "  warnings.warn(\n"
     ]
    },
    {
     "name": "stdout",
     "output_type": "stream",
     "text": [
      "Amylase Items in icu:\n",
      "   itemid    label category\n",
      "0  220581  Amylase     Labs\n"
     ]
    },
    {
     "name": "stderr",
     "output_type": "stream",
     "text": [
      "/Users/zhuyu/anaconda3/envs/COMP90089/lib/python3.12/site-packages/google/cloud/bigquery/table.py:1727: UserWarning: BigQuery Storage module not found, fetch data with the REST endpoint instead.\n",
      "  warnings.warn(\n"
     ]
    },
    {
     "name": "stdout",
     "output_type": "stream",
     "text": [
      "      subject_id   hadm_id           charttime  amylase_level\n",
      "767     10112484      <NA> 2124-05-30 07:10:00         2173.0\n",
      "1087    10149959  24022109 2144-11-28 09:15:00         1056.0\n",
      "1560    10219697      <NA> 2114-09-17 11:29:00         2219.0\n",
      "2407    10305478  20378167 2124-09-28 07:20:00         1129.0\n",
      "2419    10305478  27897783 2126-06-24 07:30:00         1718.0\n",
      "Number of high amylase cases: 236\n",
      "Number of unique patients with high amylase levels: 222\n"
     ]
    }
   ],
   "source": [
    "# 3. Get high amylase level patients\n",
    "# Step 1: Retrieve Amylase Item IDs for both hosp and ICU\n",
    "amylase_item_query_hosp = \"\"\"\n",
    "SELECT itemid, label, fluid\n",
    "FROM `physionet-data.mimiciv_hosp.d_labitems`\n",
    "WHERE LOWER(label) LIKE '%amylase%'\n",
    "\"\"\"\n",
    "amylase_items_df_hosp = run_query(amylase_item_query_hosp)\n",
    "print(\"Amylase Items in hosp:\")\n",
    "print(amylase_items_df_hosp)\n",
    "\n",
    "amylase_item_query_icu = \"\"\"\n",
    "SELECT itemid, label, category\n",
    "FROM `physionet-data.mimiciv_icu.d_items`\n",
    "WHERE LOWER(label) LIKE '%amylase%'\n",
    "\"\"\"\n",
    "amylase_items_df_icu = run_query(amylase_item_query_icu)\n",
    "print(\"Amylase Items in icu:\")\n",
    "print(amylase_items_df_icu)\n",
    "\n",
    "# Identified Amylase item IDs for both hosp and ICU\n",
    "amylase_itemids = [50867, 53087, 51964, 220581]\n",
    "\n",
    "# Step 2: Retrieve Amylase Values from hosp\n",
    "amylase_values_query_hosp = f\"\"\"\n",
    "SELECT subject_id, hadm_id, charttime, valuenum AS amylase_level\n",
    "FROM `physionet-data.mimiciv_hosp.labevents`\n",
    "WHERE itemid IN ({', '.join(map(str, amylase_itemids))})\n",
    "ORDER BY subject_id, charttime\n",
    "\"\"\"\n",
    "amylase_values_df_hosp = run_query(amylase_values_query_hosp)\n",
    "\n",
    "# Step 3: Retrieve Amylase Values from ICU\n",
    "amylase_values_query_icu = f\"\"\"\n",
    "SELECT subject_id, hadm_id, charttime, valuenum AS amylase_level\n",
    "FROM `physionet-data.mimiciv_icu.chartevents`\n",
    "WHERE itemid IN ({', '.join(map(str, amylase_itemids))})\n",
    "ORDER BY subject_id, charttime\n",
    "\"\"\"\n",
    "amylase_values_df_icu = run_query(amylase_values_query_icu)\n",
    "\n",
    "# Step 4: Concatenate ICU and hosp data, keep only the earliest record for each patient\n",
    "amylase_values_df = pd.concat([amylase_values_df_hosp, amylase_values_df_icu], ignore_index=True)\n",
    "amylase_values_df = amylase_values_df.sort_values(by=['subject_id', 'hadm_id', 'charttime']).drop_duplicates(subset=['subject_id', 'hadm_id'], keep='first')\n",
    "\n",
    "# Step 5: Identify patients with high Amylase levels (e.g., > 1000 IU/L)\n",
    "amylase_critical_df = amylase_values_df[amylase_values_df['amylase_level'] > 1000]\n",
    "\n",
    "# Count number of unique patients with high amylase levels\n",
    "num_patients = amylase_critical_df['subject_id'].nunique()\n",
    "print(amylase_critical_df.head())\n",
    "print(f\"Number of high amylase cases: {amylase_critical_df.shape[0]}\")\n",
    "print(f\"Number of unique patients with high amylase levels: {num_patients}\")\n",
    "\n",
    "# Step 6: Inner join high Amylase level records with high Lipase level records\n",
    "hl_ha_df = pd.merge(\n",
    "    high_lipase_df.copy(),\n",
    "    amylase_critical_df[['subject_id', 'hadm_id', 'charttime', 'amylase_level']],\n",
    "    on=['subject_id', 'hadm_id'],\n",
    "    how='outer',\n",
    "    suffixes=('_lipase','_amylase')\n",
    ")"
   ]
  },
  {
   "cell_type": "code",
   "execution_count": 119,
   "metadata": {},
   "outputs": [
    {
     "name": "stdout",
     "output_type": "stream",
     "text": [
      "   subject_id   hadm_id    charttime_lipase  lipase_level           admittime  \\\n",
      "0    10004606  29242151 2159-02-20 18:30:00        1222.0 2159-02-20 13:43:00   \n",
      "1    10006431  24638489 2129-01-23 23:36:00         508.0 2129-01-24 01:08:00   \n",
      "2    10017531  22580355 2159-09-22 20:56:00        1164.0 2159-09-22 19:30:00   \n",
      "3    10021357  25937617 2144-12-30 06:55:00        1249.0 2144-12-27 19:41:00   \n",
      "4    10037818  21016472 2189-09-15 23:23:00        2519.0 2189-09-16 02:13:00   \n",
      "\n",
      "            dischtime gender  approximate_age_at_admission   race  actual_age  \\\n",
      "0 2159-03-06 16:51:00      F                            64  WHITE          64   \n",
      "1 2129-01-30 16:50:00      F                            66  WHITE          67   \n",
      "2 2159-10-24 13:40:00      M                            63  WHITE          64   \n",
      "3 2145-01-04 19:54:00      F                            91  WHITE          91   \n",
      "4 2189-09-18 01:10:00      F                            61  WHITE          61   \n",
      "\n",
      "   in_hospital_death  length_of_stay charttime_amylase  amylase_level  \n",
      "0              False       14.130556               NaT            NaN  \n",
      "1              False        6.654167               NaT            NaN  \n",
      "2              False       31.756944               NaT            NaN  \n",
      "3              False        8.009028               NaT            NaN  \n",
      "4              False        1.956250               NaT            NaN  \n",
      "Number of rows in the combined dataset with high lipase or high amylase levels: 1859\n",
      "Number of unique patients in the combined dataset with high lipase or high amylase levels: 1678\n"
     ]
    }
   ],
   "source": [
    "# Display the combined dataset\n",
    "print(hl_ha_df.head())\n",
    "print(f\"Number of rows in the combined dataset with high lipase or high amylase levels: {hl_ha_df.shape[0]}\")\n",
    "print(f\"Number of unique patients in the combined dataset with high lipase or high amylase levels: {hl_ha_df['subject_id'].nunique()}\")"
   ]
  },
  {
   "cell_type": "code",
   "execution_count": 120,
   "metadata": {},
   "outputs": [
    {
     "name": "stderr",
     "output_type": "stream",
     "text": [
      "/Users/zhuyu/anaconda3/envs/COMP90089/lib/python3.12/site-packages/google/cloud/bigquery/table.py:1727: UserWarning: BigQuery Storage module not found, fetch data with the REST endpoint instead.\n",
      "  warnings.warn(\n"
     ]
    },
    {
     "name": "stdout",
     "output_type": "stream",
     "text": [
      "CRP Items in hosp:\n",
      "    itemid                       label                fluid\n",
      "0    50864           Alpha-Fetoprotein                Blood\n",
      "1    50889          C-Reactive Protein                Blood\n",
      "2    50975     Protein Electrophoresis                Blood\n",
      "3    50976              Protein, Total                Blood\n",
      "4    53096              Protein, Total                Blood\n",
      "5    51949        Total Protein, Stool                Stool\n",
      "6    51068               24 hr Protein                Urine\n",
      "7    51099    Protein/Creatinine Ratio                Urine\n",
      "8    51102        Total Protein, Urine                Urine\n",
      "9    51992                     Protein                Urine\n",
      "10   50849      Total Protein, Ascites              Ascites\n",
      "11   51059      Total Protein, Pleural              Pleural\n",
      "12   51024  Total Protein, Joint Fluid          Joint Fluid\n",
      "13   51043   Total Protein, Body Fluid     Other Body Fluid\n",
      "14   51802          Total Protein, CSF  Cerebrospinal Fluid\n",
      "15   51270          Protein C, Antigen                Blood\n",
      "16   51271       Protein C, Functional                Blood\n",
      "17   51272          Protein S, Antigen                Blood\n",
      "18   51273       Protein S, Functional                Blood\n",
      "19   52162                   Protein S                Blood\n",
      "20   51492                     Protein                Urine\n"
     ]
    },
    {
     "name": "stderr",
     "output_type": "stream",
     "text": [
      "/Users/zhuyu/anaconda3/envs/COMP90089/lib/python3.12/site-packages/google/cloud/bigquery/table.py:1727: UserWarning: BigQuery Storage module not found, fetch data with the REST endpoint instead.\n",
      "  warnings.warn(\n"
     ]
    },
    {
     "name": "stdout",
     "output_type": "stream",
     "text": [
      "CRP Items in icu:\n",
      "   itemid                       label                 category\n",
      "0  229583                Beneprotein.  Nutrition - Supplements\n",
      "1  220454                     Protein              Ingredients\n",
      "2  220612   ZC Reactive Protein (CRP)                     Labs\n",
      "3  220650               Total Protein                     Labs\n",
      "4  227444    C Reactive Protein (CRP)                     Labs\n",
      "5  226184  Estimated Protein Needs/Kg                  General\n",
      "6  225970                 Beneprotein      Nutrition - Enteral\n",
      "7  229296   Vital High Protein (Full)      Nutrition - Enteral\n"
     ]
    },
    {
     "name": "stderr",
     "output_type": "stream",
     "text": [
      "/Users/zhuyu/anaconda3/envs/COMP90089/lib/python3.12/site-packages/google/cloud/bigquery/table.py:1727: UserWarning: BigQuery Storage module not found, fetch data with the REST endpoint instead.\n",
      "  warnings.warn(\n"
     ]
    },
    {
     "name": "stdout",
     "output_type": "stream",
     "text": [
      "Number of unique patients with high CRP levels within 48 hrs: 1763\n"
     ]
    },
    {
     "name": "stderr",
     "output_type": "stream",
     "text": [
      "/var/folders/5w/c5jgggvd3f52shk667p25scc0000gn/T/ipykernel_86122/189856263.py:43: FutureWarning: The behavior of DataFrame concatenation with empty or all-NA entries is deprecated. In a future version, this will no longer exclude empty or all-NA columns when determining the result dtypes. To retain the old behavior, exclude the relevant entries before the concat operation.\n",
      "  crp_values_df = pd.concat([crp_values_df_hosp, crp_values_df_icu], ignore_index=True)\n"
     ]
    }
   ],
   "source": [
    "# 4. Get high CRP level patients\n",
    "# Step 1: Retrieve CRP Item IDs for both hosp and ICU\n",
    "crp_item_query_hosp = \"\"\"\n",
    "SELECT itemid, label, fluid\n",
    "FROM `physionet-data.mimiciv_hosp.d_labitems`\n",
    "WHERE LOWER(label) LIKE '%c-reactive%' or LOWER(label) LIKE '%protein%'\n",
    "\"\"\"\n",
    "crp_items_df_hosp = run_query(crp_item_query_hosp)\n",
    "print(\"CRP Items in hosp:\")\n",
    "print(crp_items_df_hosp)\n",
    "\n",
    "crp_item_query_icu = \"\"\"\n",
    "SELECT itemid, label, category\n",
    "FROM `physionet-data.mimiciv_icu.d_items`\n",
    "WHERE LOWER(label) LIKE '%c-reactive%' or LOWER(label) LIKE '%protein%'\n",
    "\"\"\"\n",
    "crp_items_df_icu = run_query(crp_item_query_icu)\n",
    "print(\"CRP Items in icu:\")\n",
    "print(crp_items_df_icu)\n",
    "\n",
    "crp_itemid_hosp = \"50889\"\n",
    "crp_itemid_icu = \"51006\"\n",
    "\n",
    "# Step 2: Retrieve CRP values from hosp\n",
    "crp_values_query_hosp = f\"\"\"\n",
    "SELECT subject_id, hadm_id, charttime, valuenum AS crp_level\n",
    "FROM `physionet-data.mimiciv_hosp.labevents`\n",
    "WHERE itemid IN ({crp_itemid_hosp})\n",
    "ORDER BY subject_id, charttime\n",
    "\"\"\"\n",
    "crp_values_df_hosp = run_query(crp_values_query_hosp)\n",
    "\n",
    "# Step 3: Retrieve CRP values from icu\n",
    "crp_values_query_icu = f\"\"\"\n",
    "SELECT subject_id, hadm_id, charttime, valuenum AS crp_level\n",
    "FROM `physionet-data.mimiciv_icu.chartevents`\n",
    "WHERE itemid IN ({crp_itemid_icu})\n",
    "ORDER BY subject_id, charttime\n",
    "\"\"\"\n",
    "crp_values_df_icu = run_query(crp_values_query_icu)\n",
    "\n",
    "# Step 4: Concatenate ICU and hosp data, keep only the earliest record for each patient\n",
    "crp_values_df = pd.concat([crp_values_df_hosp, crp_values_df_icu], ignore_index=True)\n",
    "crp_values_df = crp_values_df.sort_values(by=['subject_id', 'hadm_id', 'charttime']).drop_duplicates(subset=['subject_id', 'hadm_id'], keep='first')\n",
    "\n",
    "# Step 5: Merge CRP values with patient info to calculate time difference within 48 hrs\n",
    "crp_values_df = pd.merge(crp_values_df, patient_info_df[['subject_id', 'hadm_id', 'admittime']], on=['subject_id', 'hadm_id'])\n",
    "crp_values_df['charttime'] = pd.to_datetime(crp_values_df['charttime'])\n",
    "crp_values_df['within_48h'] = (crp_values_df['charttime'] - crp_values_df['admittime']).dt.total_seconds() / (60 * 60) <= 48\n",
    "\n",
    "# Step 6: Filter records with CRP > 150 mg/dL within 48 hrs\n",
    "crp_critical_df = crp_values_df[(crp_values_df['crp_level'] > 150) & (crp_values_df['within_48h'])]\n",
    "\n",
    "# Count the number of unique patients with high CRP levels\n",
    "num_patients = crp_critical_df['subject_id'].nunique()\n",
    "print(f\"Number of unique patients with high CRP levels within 48 hrs: {num_patients}\")\n",
    "\n",
    "# Step : Outer join CRP critical data with the existing combined dataset\n",
    "hl_ha_hc_df = pd.merge(\n",
    "    hl_ha_df.copy(),\n",
    "    crp_critical_df[['subject_id', 'hadm_id', 'charttime', 'crp_level']],\n",
    "    on=['subject_id', 'hadm_id'],\n",
    "    how='outer',\n",
    "    suffixes=('', '_crp')\n",
    ")"
   ]
  },
  {
   "cell_type": "code",
   "execution_count": 121,
   "metadata": {},
   "outputs": [],
   "source": [
    "hl_ha_hc_df.set_index(['subject_id', 'hadm_id'], inplace=True)\n",
    "hl_ha_hc_df.update(patient_info_df.set_index(['subject_id', 'hadm_id']))\n",
    "hl_ha_hc_df.reset_index(inplace=True)"
   ]
  },
  {
   "cell_type": "code",
   "execution_count": 122,
   "metadata": {},
   "outputs": [
    {
     "name": "stdout",
     "output_type": "stream",
     "text": [
      "   subject_id   hadm_id    charttime_lipase  lipase_level           admittime  \\\n",
      "0    10002976  27179825                 NaT           NaN 2145-02-28 19:44:00   \n",
      "1    10003400  23559586                 NaT           NaN 2137-08-04 00:07:00   \n",
      "2    10004606  29242151 2159-02-20 18:30:00        1222.0 2159-02-20 13:43:00   \n",
      "3    10006431  24638489 2129-01-23 23:36:00         508.0 2129-01-24 01:08:00   \n",
      "4    10006513  29846618                 NaT           NaN 2127-03-27 14:52:00   \n",
      "\n",
      "            dischtime gender  approximate_age_at_admission  \\\n",
      "0 2145-03-05 16:45:00      M                            70   \n",
      "1 2137-09-02 17:05:00      F                            72   \n",
      "2 2159-03-06 16:51:00      F                            64   \n",
      "3 2129-01-30 16:50:00      F                            66   \n",
      "4 2127-03-28 15:20:00      M                            42   \n",
      "\n",
      "                     race  actual_age  in_hospital_death  length_of_stay  \\\n",
      "0                   WHITE          71              False        4.875694   \n",
      "1  BLACK/AFRICAN AMERICAN          75               True       29.706944   \n",
      "2                   WHITE          64              False       14.130556   \n",
      "3                   WHITE          67              False        6.654167   \n",
      "4                   OTHER          51              False        1.019444   \n",
      "\n",
      "  charttime_amylase  amylase_level           charttime  crp_level  \n",
      "0               NaT            NaN 2145-03-01 07:30:00      243.8  \n",
      "1               NaT            NaN 2137-08-05 04:38:00      156.2  \n",
      "2               NaT            NaN                 NaT        NaN  \n",
      "3               NaT            NaN                 NaT        NaN  \n",
      "4               NaT            NaN 2127-03-26 21:15:00      253.0  \n",
      "Number of rows in the combined dataset with high lipase or high amylase or high CRP levels: 3722\n",
      "Number of unique patients in the combined dataset with high lipase or high amylase or high CRP levels: 3412\n"
     ]
    }
   ],
   "source": [
    "# Display the combined dataset\n",
    "print(hl_ha_hc_df.head())\n",
    "print(f\"Number of rows in the combined dataset with high lipase or high amylase or high CRP levels: {hl_ha_hc_df.shape[0]}\")\n",
    "print(f\"Number of unique patients in the combined dataset with high lipase or high amylase or high CRP levels: {hl_ha_hc_df['subject_id'].nunique()}\")"
   ]
  },
  {
   "cell_type": "code",
   "execution_count": 123,
   "metadata": {
    "colab": {
     "base_uri": "https://localhost:8080/"
    },
    "id": "Gdg0qCPfW6WG",
    "outputId": "cef577a8-24f4-4118-ec8f-00c02e10c8f5"
   },
   "outputs": [
    {
     "name": "stderr",
     "output_type": "stream",
     "text": [
      "/Users/zhuyu/anaconda3/envs/COMP90089/lib/python3.12/site-packages/google/cloud/bigquery/table.py:1727: UserWarning: BigQuery Storage module not found, fetch data with the REST endpoint instead.\n",
      "  warnings.warn(\n"
     ]
    },
    {
     "name": "stdout",
     "output_type": "stream",
     "text": [
      "   subject_id   hadm_id    charttime_lipase  lipase_level           admittime  \\\n",
      "0    10002976  27179825                 NaT           NaN 2145-02-28 19:44:00   \n",
      "1    10003400  23559586                 NaT           NaN 2137-08-04 00:07:00   \n",
      "2    10004606  29242151 2159-02-20 18:30:00        1222.0 2159-02-20 13:43:00   \n",
      "3    10006431  24638489 2129-01-23 23:36:00         508.0 2129-01-24 01:08:00   \n",
      "4    10006513  29846618                 NaT           NaN 2127-03-27 14:52:00   \n",
      "\n",
      "            dischtime gender  approximate_age_at_admission  \\\n",
      "0 2145-03-05 16:45:00      M                            70   \n",
      "1 2137-09-02 17:05:00      F                            72   \n",
      "2 2159-03-06 16:51:00      F                            64   \n",
      "3 2129-01-30 16:50:00      F                            66   \n",
      "4 2127-03-28 15:20:00      M                            42   \n",
      "\n",
      "                     race  actual_age  in_hospital_death  length_of_stay  \\\n",
      "0                   WHITE          71              False        4.875694   \n",
      "1  BLACK/AFRICAN AMERICAN          75               True       29.706944   \n",
      "2                   WHITE          64              False       14.130556   \n",
      "3                   WHITE          67              False        6.654167   \n",
      "4                   OTHER          51              False        1.019444   \n",
      "\n",
      "  charttime_amylase  amylase_level           charttime  crp_level icd_code  \\\n",
      "0               NaT            NaN 2145-03-01 07:30:00      243.8      NaN   \n",
      "1               NaT            NaN 2137-08-05 04:38:00      156.2      NaN   \n",
      "2               NaT            NaN                 NaT        NaN    K8510   \n",
      "3               NaT            NaN                 NaT        NaN    K8580   \n",
      "4               NaT            NaN 2127-03-26 21:15:00      253.0      NaN   \n",
      "\n",
      "   is_confirmed_ap  \n",
      "0            False  \n",
      "1            False  \n",
      "2             True  \n",
      "3             True  \n",
      "4            False  \n",
      "Number of unique patients with high levels who are confirmed with AP: 1188\n",
      "Number of rows in the combined dataset with AP confirmation: 3722\n"
     ]
    }
   ],
   "source": [
    "# 5. Get AP ICD Info\n",
    "# Step 1: Retrieve records with AP diagnosis based on ICD codes\n",
    "ap_icd_query = f\"\"\"\n",
    "SELECT subject_id, hadm_id, icd_code, seq_num \n",
    "FROM `physionet-data.mimiciv_hosp.diagnoses_icd`\n",
    "WHERE icd_code LIKE 'K85%' OR icd_code = '5770'\n",
    "ORDER BY subject_id, seq_num\n",
    "\"\"\"\n",
    "ap_icd_df = run_query(ap_icd_query)\n",
    "\n",
    "# Keep only the first record for each patient\n",
    "ap_icd_df = ap_icd_df.drop_duplicates(subset=['subject_id', 'hadm_id'], keep='first')\n",
    "\n",
    "# Step 2: Merge AP diagnosis info with the existing combined dataset\n",
    "combined_df_with_ap = pd.merge(\n",
    "    hl_ha_hc_df.copy(),\n",
    "    ap_icd_df[['subject_id', 'hadm_id', 'icd_code']],\n",
    "    on=['subject_id', 'hadm_id'],\n",
    "    how='left'\n",
    ")\n",
    "\n",
    "# Step 3: Label records with AP confirmation\n",
    "combined_df_with_ap['is_confirmed_ap'] = combined_df_with_ap['icd_code'].notna()\n",
    "\n",
    "# Display the resulting dataset\n",
    "print(combined_df_with_ap.head())\n",
    "\n",
    "# Count unique patients confirmed with AP\n",
    "num_confirmed_ap_patients = combined_df_with_ap[combined_df_with_ap['is_confirmed_ap'] == True]['subject_id'].nunique()\n",
    "print(f\"Number of unique patients with high levels who are confirmed with AP: {num_confirmed_ap_patients}\")\n",
    "\n",
    "# Total number of rows in the combined dataset with AP confirmation\n",
    "num_rows = combined_df_with_ap.shape[0]\n",
    "print(f\"Number of rows in the combined dataset with AP confirmation: {num_rows}\")"
   ]
  },
  {
   "cell_type": "code",
   "execution_count": 124,
   "metadata": {
    "id": "zOsCYBjQ8I-n"
   },
   "outputs": [
    {
     "name": "stderr",
     "output_type": "stream",
     "text": [
      "/Users/zhuyu/anaconda3/envs/COMP90089/lib/python3.12/site-packages/google/cloud/bigquery/table.py:1727: UserWarning: BigQuery Storage module not found, fetch data with the REST endpoint instead.\n",
      "  warnings.warn(\n"
     ]
    },
    {
     "name": "stdout",
     "output_type": "stream",
     "text": [
      "   subject_id   hadm_id    charttime_lipase  lipase_level           admittime  \\\n",
      "0    10002976  27179825                 NaT           NaN 2145-02-28 19:44:00   \n",
      "1    10003400  23559586                 NaT           NaN 2137-08-04 00:07:00   \n",
      "2    10004606  29242151 2159-02-20 18:30:00        1222.0 2159-02-20 13:43:00   \n",
      "3    10006431  24638489 2129-01-23 23:36:00         508.0 2129-01-24 01:08:00   \n",
      "4    10006513  29846618                 NaT           NaN 2127-03-27 14:52:00   \n",
      "\n",
      "            dischtime gender  approximate_age_at_admission  \\\n",
      "0 2145-03-05 16:45:00      M                            70   \n",
      "1 2137-09-02 17:05:00      F                            72   \n",
      "2 2159-03-06 16:51:00      F                            64   \n",
      "3 2129-01-30 16:50:00      F                            66   \n",
      "4 2127-03-28 15:20:00      M                            42   \n",
      "\n",
      "                     race  actual_age  in_hospital_death  length_of_stay  \\\n",
      "0                   WHITE          71              False        4.875694   \n",
      "1  BLACK/AFRICAN AMERICAN          75               True       29.706944   \n",
      "2                   WHITE          64              False       14.130556   \n",
      "3                   WHITE          67              False        6.654167   \n",
      "4                   OTHER          51              False        1.019444   \n",
      "\n",
      "  charttime_amylase  amylase_level           charttime  crp_level icd_code  \\\n",
      "0               NaT            NaN 2145-03-01 07:30:00      243.8      NaN   \n",
      "1               NaT            NaN 2137-08-05 04:38:00      156.2      NaN   \n",
      "2               NaT            NaN                 NaT        NaN    K8510   \n",
      "3               NaT            NaN                 NaT        NaN    K8580   \n",
      "4               NaT            NaN 2127-03-26 21:15:00      253.0      NaN   \n",
      "\n",
      "   is_confirmed_ap  average_weight  \n",
      "0            False             NaN  \n",
      "1            False      104.366667  \n",
      "2             True       56.300000  \n",
      "3             True             NaN  \n",
      "4            False             NaN  \n",
      "Number of rows with average weight data: 3722\n"
     ]
    }
   ],
   "source": [
    "# 6. Get Weight Info\n",
    "# Step 1: Retrieve weight data for ICU patients (only admit and daily weight)\n",
    "weight_query = \"\"\"\n",
    "SELECT\n",
    "    subject_id, hadm_id, stay_id, charttime,\n",
    "    CASE WHEN itemid = 226512 THEN 'admit' ELSE 'daily' END AS weight_type,\n",
    "    valuenum AS weight\n",
    "FROM `physionet-data.mimiciv_icu.chartevents`\n",
    "WHERE valuenum IS NOT NULL\n",
    "  AND itemid IN (226512, 224639)  -- Admit Weight and Daily Weight\n",
    "  AND valuenum > 0\n",
    "ORDER BY subject_id, charttime\n",
    "\"\"\"\n",
    "\n",
    "# Step 2: Run the query to retrieve weight data\n",
    "weight_df = run_query(weight_query)\n",
    "\n",
    "# Step 3: Calculate the average weight per patient (admit and daily weights)\n",
    "# Group by patient identifiers and calculate the mean weight\n",
    "average_weight_df = weight_df.groupby(['subject_id', 'hadm_id']).agg(\n",
    "    average_weight=('weight', 'mean')\n",
    ").reset_index()\n",
    "\n",
    "# Step 4: Merge the average weight data with the main combined dataset\n",
    "combined_df_with_avg_weight = pd.merge(\n",
    "    combined_df_with_ap.copy(),\n",
    "    average_weight_df[['subject_id', 'hadm_id', 'average_weight']],\n",
    "    on=['subject_id', 'hadm_id'],\n",
    "    how='left'\n",
    ")\n",
    "\n",
    "# Display the resulting DataFrame\n",
    "print(combined_df_with_avg_weight.head())\n",
    "print(f\"Number of rows with average weight data: {combined_df_with_avg_weight.shape[0]}\")"
   ]
  },
  {
   "cell_type": "code",
   "execution_count": 125,
   "metadata": {},
   "outputs": [
    {
     "name": "stderr",
     "output_type": "stream",
     "text": [
      "/Users/zhuyu/anaconda3/envs/COMP90089/lib/python3.12/site-packages/google/cloud/bigquery/table.py:1727: UserWarning: BigQuery Storage module not found, fetch data with the REST endpoint instead.\n",
      "  warnings.warn(\n"
     ]
    },
    {
     "name": "stdout",
     "output_type": "stream",
     "text": [
      "   subject_id   hadm_id    charttime_lipase  lipase_level           admittime  \\\n",
      "0    10002976  27179825                 NaT           NaN 2145-02-28 19:44:00   \n",
      "1    10003400  23559586                 NaT           NaN 2137-08-04 00:07:00   \n",
      "2    10004606  29242151 2159-02-20 18:30:00        1222.0 2159-02-20 13:43:00   \n",
      "3    10006431  24638489 2129-01-23 23:36:00         508.0 2129-01-24 01:08:00   \n",
      "4    10006513  29846618                 NaT           NaN 2127-03-27 14:52:00   \n",
      "\n",
      "            dischtime gender  approximate_age_at_admission  \\\n",
      "0 2145-03-05 16:45:00      M                            70   \n",
      "1 2137-09-02 17:05:00      F                            72   \n",
      "2 2159-03-06 16:51:00      F                            64   \n",
      "3 2129-01-30 16:50:00      F                            66   \n",
      "4 2127-03-28 15:20:00      M                            42   \n",
      "\n",
      "                     race  actual_age  in_hospital_death  length_of_stay  \\\n",
      "0                   WHITE          71              False        4.875694   \n",
      "1  BLACK/AFRICAN AMERICAN          75               True       29.706944   \n",
      "2                   WHITE          64              False       14.130556   \n",
      "3                   WHITE          67              False        6.654167   \n",
      "4                   OTHER          51              False        1.019444   \n",
      "\n",
      "  charttime_amylase  amylase_level           charttime  crp_level icd_code  \\\n",
      "0               NaT            NaN 2145-03-01 07:30:00      243.8      NaN   \n",
      "1               NaT            NaN 2137-08-05 04:38:00      156.2      NaN   \n",
      "2               NaT            NaN                 NaT        NaN    K8510   \n",
      "3               NaT            NaN                 NaT        NaN    K8580   \n",
      "4               NaT            NaN 2127-03-26 21:15:00      253.0      NaN   \n",
      "\n",
      "   is_confirmed_ap  average_weight  charlson_comorbidity_index  \n",
      "0            False             NaN                           5  \n",
      "1            False      104.366667                           5  \n",
      "2             True       56.300000                           4  \n",
      "3             True             NaN                           3  \n",
      "4            False             NaN                           2  \n",
      "Number of rows in the combined dataset with CCI: 3722\n"
     ]
    }
   ],
   "source": [
    "# 7. Get CCI Info\n",
    "# Step 1: Query for Charlson Comorbidity Index (CCI) based on ICD codes\n",
    "cci_query = \"\"\"\n",
    "WITH diag AS (\n",
    "    SELECT \n",
    "        hadm_id,\n",
    "        CASE WHEN icd_version = 9 THEN icd_code ELSE NULL END AS icd9_code,\n",
    "        CASE WHEN icd_version = 10 THEN icd_code ELSE NULL END AS icd10_code\n",
    "    FROM `physionet-data.mimiciv_hosp.diagnoses_icd`\n",
    "),\n",
    "com AS (\n",
    "    SELECT ad.hadm_id,\n",
    "        -- Myocardial infarction\n",
    "        MAX(CASE WHEN SUBSTR(icd9_code, 1, 3) IN ('410','412') OR SUBSTR(icd10_code, 1, 3) IN ('I21','I22') OR SUBSTR(icd10_code, 1, 4) = 'I252' THEN 1 ELSE 0 END) AS myocardial_infarct,\n",
    "        -- Congestive heart failure\n",
    "        MAX(CASE WHEN SUBSTR(icd9_code, 1, 3) = '428' OR SUBSTR(icd9_code, 1, 5) IN ('39891','40201','40211','40291','40401','40403','40411','40413','40491','40493') OR SUBSTR(icd9_code, 1, 4) BETWEEN '4254' AND '4259' OR SUBSTR(icd10_code, 1, 3) IN ('I43','I50') OR SUBSTR(icd10_code, 1, 4) IN ('I099','I110','I130','I132','I255','I420','I425','I426','I427','I428','I429','P290') THEN 1 ELSE 0 END) AS congestive_heart_failure,\n",
    "        -- Peripheral vascular disease\n",
    "        MAX(CASE WHEN SUBSTR(icd9_code, 1, 3) IN ('440','441') OR SUBSTR(icd9_code, 1, 4) IN ('0930','4373','4471','5571','5579','V434') OR SUBSTR(icd9_code, 1, 4) BETWEEN '4431' AND '4439' OR SUBSTR(icd10_code, 1, 3) IN ('I70','I71') OR SUBSTR(icd10_code, 1, 4) IN ('I731','I738','I739','I771','I790','I792','K551','K558','K559','Z958','Z959') THEN 1 ELSE 0 END) AS peripheral_vascular_disease,\n",
    "        -- Additional comorbidity definitions (Cerebrovascular disease, Dementia, Chronic pulmonary disease, etc.)\n",
    "        -- Add other conditions following similar MAX/CASE structure as above for each comorbidity\n",
    "    FROM `physionet-data.mimiciv_hosp.admissions` ad\n",
    "    LEFT JOIN diag ON ad.hadm_id = diag.hadm_id\n",
    "    GROUP BY ad.hadm_id\n",
    "),\n",
    "ag AS (\n",
    "    SELECT \n",
    "        hadm_id,\n",
    "        age,\n",
    "        CASE WHEN age <= 40 THEN 0 WHEN age <= 50 THEN 1 WHEN age <= 60 THEN 2 WHEN age <= 70 THEN 3 ELSE 4 END AS age_score\n",
    "    FROM `physionet-data.mimiciv_derived.age`\n",
    ")\n",
    "SELECT \n",
    "    ad.subject_id,\n",
    "    ad.hadm_id,\n",
    "    ag.age_score,\n",
    "    myocardial_infarct,\n",
    "    congestive_heart_failure,\n",
    "    peripheral_vascular_disease,\n",
    "    -- Include all other comorbidities fields here...\n",
    "    age_score + myocardial_infarct + congestive_heart_failure + peripheral_vascular_disease\n",
    "    -- + add all the weighted conditions here as in your full CCI calculation\n",
    "    AS charlson_comorbidity_index\n",
    "FROM `physionet-data.mimiciv_hosp.admissions` ad\n",
    "LEFT JOIN com ON ad.hadm_id = com.hadm_id\n",
    "LEFT JOIN ag ON com.hadm_id = ag.hadm_id\n",
    "\"\"\"\n",
    "\n",
    "# Step 2: Run the query to get CCI data\n",
    "cci_df = run_query(cci_query)\n",
    "\n",
    "# Step 3: Merge CCI data with the main dataset based on `subject_id` and `hadm_id`\n",
    "combined_df_with_ap = pd.merge(\n",
    "    combined_df_with_avg_weight.copy(),\n",
    "    cci_df[['subject_id', 'hadm_id', 'charlson_comorbidity_index']],\n",
    "    on=['subject_id', 'hadm_id'],\n",
    "    how='left'\n",
    ")\n",
    "\n",
    "# Step 4: Display the final combined dataset with CCI information\n",
    "print(combined_df_with_ap.head())\n",
    "print(f\"Number of rows in the combined dataset with CCI: {combined_df_with_ap.shape[0]}\")"
   ]
  },
  {
   "cell_type": "code",
   "execution_count": 126,
   "metadata": {},
   "outputs": [
    {
     "name": "stderr",
     "output_type": "stream",
     "text": [
      "/Users/zhuyu/anaconda3/envs/COMP90089/lib/python3.12/site-packages/google/cloud/bigquery/table.py:1727: UserWarning: BigQuery Storage module not found, fetch data with the REST endpoint instead.\n",
      "  warnings.warn(\n"
     ]
    },
    {
     "name": "stdout",
     "output_type": "stream",
     "text": [
      "       subject_id   hadm_id           charttime  itemid  respiratory_rate\n",
      "0        10004606  29242151 2159-02-20 18:19:00  220210              15.0\n",
      "20       10011668  22181970 2131-06-14 17:17:00  220210              19.0\n",
      "44       10015860  25085565 2186-09-15 18:00:00  220210              20.0\n",
      "61       10017531  22580355 2159-09-22 19:35:00  220210              26.0\n",
      "87       10049833  20762302 2168-05-24 16:44:00  220210              16.0\n",
      "...           ...       ...                 ...     ...               ...\n",
      "19991    19929625  29789943 2153-06-19 21:59:00  220210              18.0\n",
      "20039    19934880  20689670 2166-11-23 11:39:00  220210              15.0\n",
      "20062    19962418  25331514 2132-10-24 21:40:00  220210              16.0\n",
      "20087    19970491  22119205 2131-02-11 01:43:00  220210              15.0\n",
      "20108    19970491  25338284 2129-05-17 17:55:00  220210              23.0\n",
      "\n",
      "[825 rows x 5 columns]\n"
     ]
    },
    {
     "name": "stderr",
     "output_type": "stream",
     "text": [
      "/Users/zhuyu/anaconda3/envs/COMP90089/lib/python3.12/site-packages/google/cloud/bigquery/table.py:1727: UserWarning: BigQuery Storage module not found, fetch data with the REST endpoint instead.\n",
      "  warnings.warn(\n"
     ]
    },
    {
     "name": "stdout",
     "output_type": "stream",
     "text": [
      "       subject_id   hadm_id           charttime  itemid  heart_rate\n",
      "0        10004606  29242151 2159-02-20 18:19:00  220045       107.0\n",
      "20       10011668  22181970 2131-06-14 17:17:00  220045       107.0\n",
      "44       10015860  25085565 2186-09-15 18:00:00  220045       114.0\n",
      "61       10017531  22580355 2159-09-22 19:35:00  220045       116.0\n",
      "87       10049833  20762302 2168-05-24 16:44:00  220045       124.0\n",
      "...           ...       ...                 ...     ...         ...\n",
      "20255    19929625  29789943 2153-06-19 21:58:00  220045       112.0\n",
      "20303    19934880  20689670 2166-11-23 11:39:00  220045        84.0\n",
      "20326    19962418  25331514 2132-10-24 21:40:00  220045       109.0\n",
      "20351    19970491  22119205 2131-02-11 01:42:00  220045       116.0\n",
      "20372    19970491  25338284 2129-05-17 17:55:00  220045        69.0\n",
      "\n",
      "[826 rows x 5 columns]\n"
     ]
    },
    {
     "name": "stderr",
     "output_type": "stream",
     "text": [
      "/Users/zhuyu/anaconda3/envs/COMP90089/lib/python3.12/site-packages/google/cloud/bigquery/table.py:1727: UserWarning: BigQuery Storage module not found, fetch data with the REST endpoint instead.\n",
      "  warnings.warn(\n"
     ]
    },
    {
     "name": "stdout",
     "output_type": "stream",
     "text": [
      "     subject_id   hadm_id           charttime  itemid  oxygen_saturation\n",
      "0      10017531  22580355 2159-09-23 10:45:00   50817               95.0\n",
      "1      10057482  25416257 2145-03-23 21:08:00   50817               66.0\n",
      "11     10153439  22115349 2121-03-11 22:58:00   50817               94.0\n",
      "14     10163709  29550274 2148-03-23 03:39:00   50817               96.0\n",
      "16     10199560  24622638 2175-01-11 07:29:00   50817               44.0\n",
      "..          ...       ...                 ...     ...                ...\n",
      "635    19811045  27885031 2162-07-08 04:35:00   50817               79.0\n",
      "637    19859524  27439975 2151-01-30 21:35:00   50817               50.0\n",
      "638    19882958  29628147 2182-08-29 18:52:00   50817               80.0\n",
      "639    19904101  23626019 2131-04-22 23:52:00   50817               97.0\n",
      "640    19962418  25331514 2132-10-25 01:30:00   50817               69.0\n",
      "\n",
      "[260 rows x 5 columns]\n"
     ]
    },
    {
     "name": "stderr",
     "output_type": "stream",
     "text": [
      "/Users/zhuyu/anaconda3/envs/COMP90089/lib/python3.12/site-packages/google/cloud/bigquery/table.py:1727: UserWarning: BigQuery Storage module not found, fetch data with the REST endpoint instead.\n",
      "  warnings.warn(\n"
     ]
    },
    {
     "name": "stdout",
     "output_type": "stream",
     "text": [
      "     subject_id   hadm_id           charttime  itemid  temperature\n",
      "0      10064759  25061074 2173-03-22 19:50:00   50825         37.5\n",
      "1      10153439  22115349 2121-03-11 22:58:00   50825         40.4\n",
      "3      10157331  26293454 2175-05-31 10:19:00   50825         37.0\n",
      "7      10163709  29550274 2148-03-22 23:16:00   50825         36.5\n",
      "9      10199560  24622638 2175-01-11 02:09:00   50825         33.6\n",
      "..          ...       ...                 ...     ...          ...\n",
      "559    19734308  27089714 2166-02-28 03:45:00   50825         37.1\n",
      "560    19776126  20550940 2184-03-19 22:42:00   50825         36.5\n",
      "562    19811045  27885031 2162-07-07 22:50:00   50825         37.8\n",
      "567    19873806  23963601 2156-10-07 06:08:00   50825         37.2\n",
      "568    19962418  25331514 2132-10-24 21:46:00   50825         36.1\n",
      "\n",
      "[253 rows x 5 columns]\n",
      "   subject_id   hadm_id    charttime_lipase  lipase_level           admittime  \\\n",
      "0    10002976  27179825                 NaT           NaN 2145-02-28 19:44:00   \n",
      "1    10003400  23559586                 NaT           NaN 2137-08-04 00:07:00   \n",
      "2    10004606  29242151 2159-02-20 18:30:00        1222.0 2159-02-20 13:43:00   \n",
      "3    10006431  24638489 2129-01-23 23:36:00         508.0 2129-01-24 01:08:00   \n",
      "4    10006513  29846618                 NaT           NaN 2127-03-27 14:52:00   \n",
      "\n",
      "            dischtime gender  approximate_age_at_admission  \\\n",
      "0 2145-03-05 16:45:00      M                            70   \n",
      "1 2137-09-02 17:05:00      F                            72   \n",
      "2 2159-03-06 16:51:00      F                            64   \n",
      "3 2129-01-30 16:50:00      F                            66   \n",
      "4 2127-03-28 15:20:00      M                            42   \n",
      "\n",
      "                     race  actual_age  ...           charttime  crp_level  \\\n",
      "0                   WHITE          71  ... 2145-03-01 07:30:00      243.8   \n",
      "1  BLACK/AFRICAN AMERICAN          75  ... 2137-08-05 04:38:00      156.2   \n",
      "2                   WHITE          64  ...                 NaT        NaN   \n",
      "3                   WHITE          67  ...                 NaT        NaN   \n",
      "4                   OTHER          51  ... 2127-03-26 21:15:00      253.0   \n",
      "\n",
      "  icd_code  is_confirmed_ap average_weight  charlson_comorbidity_index  \\\n",
      "0      NaN            False            NaN                           5   \n",
      "1      NaN            False     104.366667                           5   \n",
      "2    K8510             True      56.300000                           4   \n",
      "3    K8580             True            NaN                           3   \n",
      "4      NaN            False            NaN                           2   \n",
      "\n",
      "  respiratory_rate  heart_rate  oxygen_saturation  temperature  \n",
      "0              NaN         NaN                NaN          NaN  \n",
      "1              NaN         NaN                NaN          NaN  \n",
      "2             15.0       107.0                NaN          NaN  \n",
      "3              NaN         NaN                NaN          NaN  \n",
      "4              NaN         NaN                NaN          NaN  \n",
      "\n",
      "[5 rows x 24 columns]\n",
      "Number of rows in the combined dataset with vital signs: 3722\n"
     ]
    }
   ],
   "source": [
    "# 8. Get vital signs info\n",
    "# Step 1: Get the list of unique subject_id and hadm_id\n",
    "subject_ids = combined_df_with_ap['subject_id'].dropna().unique().tolist()\n",
    "hadm_ids = combined_df_with_ap['hadm_id'].dropna().unique().tolist()\n",
    "\n",
    "# Step 2: Define the time limit for the first 24 hours\n",
    "time_limit = 24 * 60 * 60  # 24 hours in seconds\n",
    "\n",
    "# Step 3: Modify each query to select only the first record within 24 hours of admission\n",
    "\n",
    "# 1.1 Respiratory Rate (RR)\n",
    "icu_respiratory_rate_query = f\"\"\"\n",
    "SELECT icu.subject_id, icu.hadm_id, icu.charttime, icu.itemid, icu.valuenum AS respiratory_rate,\n",
    "FROM `physionet-data.mimiciv_icu.chartevents` icu\n",
    "JOIN `physionet-data.mimiciv_hosp.admissions` adm\n",
    "ON icu.subject_id = adm.subject_id AND icu.hadm_id = adm.hadm_id\n",
    "WHERE icu.itemid = 220210\n",
    "AND TIMESTAMP_DIFF(icu.charttime, adm.admittime, SECOND) <= {time_limit}\n",
    "AND icu.subject_id IN ({', '.join(map(str, subject_ids))})\n",
    "AND icu.hadm_id IN ({', '.join(map(str, hadm_ids))})\n",
    "ORDER BY icu.subject_id, icu.hadm_id, icu.charttime\n",
    "\"\"\"\n",
    "icu_respiratory_rate_df = run_query(icu_respiratory_rate_query)\n",
    "icu_respiratory_rate_df = icu_respiratory_rate_df.drop_duplicates(subset=['subject_id', 'hadm_id'], keep='first')\n",
    "print(icu_respiratory_rate_df)\n",
    "\n",
    "# 1.2 Heart Rate (HR)\n",
    "icu_heart_rate_query = f\"\"\"\n",
    "SELECT icu.subject_id, icu.hadm_id, icu.charttime, icu.itemid, icu.valuenum AS heart_rate\n",
    "FROM `physionet-data.mimiciv_icu.chartevents` icu\n",
    "JOIN `physionet-data.mimiciv_hosp.admissions` adm\n",
    "ON icu.subject_id = adm.subject_id AND icu.hadm_id = adm.hadm_id\n",
    "WHERE icu.itemid = 220045\n",
    "AND TIMESTAMP_DIFF(icu.charttime, adm.admittime, SECOND) <= {time_limit}\n",
    "AND icu.subject_id IN ({', '.join(map(str, subject_ids))})\n",
    "AND icu.hadm_id IN ({', '.join(map(str, hadm_ids))})\n",
    "ORDER BY icu.subject_id, icu.hadm_id, icu.charttime\n",
    "\"\"\"\n",
    "icu_heart_rate_df = run_query(icu_heart_rate_query)\n",
    "icu_heart_rate_df = icu_heart_rate_df.drop_duplicates(subset=['subject_id', 'hadm_id'], keep='first')\n",
    "print(icu_heart_rate_df)\n",
    "\n",
    "# 1.3 Oxygen Saturation (OS)\n",
    "hosp_oxygen_saturation_query = f\"\"\"\n",
    "SELECT hosp.subject_id, hosp.hadm_id, hosp.charttime, hosp.itemid, hosp.valuenum AS oxygen_saturation\n",
    "FROM `physionet-data.mimiciv_hosp.labevents` hosp\n",
    "JOIN `physionet-data.mimiciv_hosp.admissions` adm\n",
    "ON hosp.subject_id = adm.subject_id AND hosp.hadm_id = adm.hadm_id\n",
    "WHERE hosp.itemid = 50817\n",
    "AND TIMESTAMP_DIFF(hosp.charttime, adm.admittime, SECOND) <= {time_limit}\n",
    "AND hosp.subject_id IN ({', '.join(map(str, subject_ids))})\n",
    "AND hosp.hadm_id IN ({', '.join(map(str, hadm_ids))})\n",
    "ORDER BY hosp.subject_id, hosp.hadm_id, hosp.charttime\n",
    "\"\"\"\n",
    "hosp_oxygen_saturation_df = run_query(hosp_oxygen_saturation_query)\n",
    "hosp_oxygen_saturation_df = hosp_oxygen_saturation_df.drop_duplicates(subset=['subject_id', 'hadm_id'], keep='first')\n",
    "print(hosp_oxygen_saturation_df)\n",
    "\n",
    "# 1.4 Temperature\n",
    "hosp_temperature_query = f\"\"\"\n",
    "SELECT hosp.subject_id, hosp.hadm_id, hosp.charttime, hosp.itemid, hosp.valuenum AS temperature\n",
    "FROM `physionet-data.mimiciv_hosp.labevents` hosp\n",
    "JOIN `physionet-data.mimiciv_hosp.admissions` adm\n",
    "ON hosp.subject_id = adm.subject_id AND hosp.hadm_id = adm.hadm_id\n",
    "WHERE hosp.itemid = 50825\n",
    "AND TIMESTAMP_DIFF(hosp.charttime, adm.admittime, SECOND) <= {time_limit}\n",
    "AND hosp.subject_id IN ({', '.join(map(str, subject_ids))})\n",
    "AND hosp.hadm_id IN ({', '.join(map(str, hadm_ids))})\n",
    "ORDER BY hosp.subject_id, hosp.hadm_id, hosp.charttime\n",
    "\"\"\"\n",
    "hosp_temperature_df = run_query(hosp_temperature_query)\n",
    "hosp_temperature_df = hosp_temperature_df.drop_duplicates(subset=['subject_id', 'hadm_id'], keep='first')\n",
    "print(hosp_temperature_df)\n",
    "\n",
    "# Step 4: Merge these results with the main dataset\n",
    "combined_df_with_vitals = combined_df_with_ap.copy()\n",
    "combined_df_with_vitals = pd.merge(combined_df_with_vitals, icu_respiratory_rate_df[['subject_id', 'hadm_id', 'respiratory_rate']], on=['subject_id', 'hadm_id'], how='left')\n",
    "combined_df_with_vitals = pd.merge(combined_df_with_vitals, icu_heart_rate_df[['subject_id', 'hadm_id', 'heart_rate']], on=['subject_id', 'hadm_id'], how='left')\n",
    "combined_df_with_vitals = pd.merge(combined_df_with_vitals, hosp_oxygen_saturation_df[['subject_id', 'hadm_id', 'oxygen_saturation']], on=['subject_id', 'hadm_id'], how='left')\n",
    "combined_df_with_vitals = pd.merge(combined_df_with_vitals, hosp_temperature_df[['subject_id', 'hadm_id', 'temperature']], on=['subject_id', 'hadm_id'], how='left')\n",
    "\n",
    "# Display the final combined dataset\n",
    "print(combined_df_with_vitals.head())\n",
    "print(f\"Number of rows in the combined dataset with vital signs: {combined_df_with_vitals.shape[0]}\")"
   ]
  },
  {
   "cell_type": "code",
   "execution_count": 130,
   "metadata": {},
   "outputs": [
    {
     "name": "stdout",
     "output_type": "stream",
     "text": [
      "Number of unique patients with vital signs data: 3412\n",
      "Number of rows in the combined dataset with vital signs data: 3722\n"
     ]
    }
   ],
   "source": [
    "# Count the number of unique patients with vital signs data\n",
    "num_patients_with_vitals = combined_df_with_vitals['subject_id'].nunique()\n",
    "print(f\"Number of unique patients with vital signs data: {num_patients_with_vitals}\")\n",
    "\n",
    "# Count the number of rows in the combined dataset with vital signs data\n",
    "num_rows_with_vitals = combined_df_with_vitals.shape[0]\n",
    "print(f\"Number of rows in the combined dataset with vital signs data: {num_rows_with_vitals}\")"
   ]
  },
  {
   "cell_type": "code",
   "execution_count": 129,
   "metadata": {},
   "outputs": [
    {
     "name": "stdout",
     "output_type": "stream",
     "text": [
      "Columns without NaN values:\n",
      "Index(['subject_id', 'is_confirmed_ap'], dtype='object')\n",
      "Columns with NaN values and their counts:\n",
      "hadm_id                           58\n",
      "charttime_lipase                1948\n",
      "lipase_level                    1948\n",
      "admittime                         58\n",
      "dischtime                         58\n",
      "gender                            58\n",
      "approximate_age_at_admission      58\n",
      "race                              58\n",
      "actual_age                        58\n",
      "in_hospital_death                 58\n",
      "length_of_stay                    58\n",
      "charttime_amylase               3486\n",
      "amylase_level                   3486\n",
      "charttime                       1851\n",
      "crp_level                       1851\n",
      "icd_code                        2428\n",
      "average_weight                  2701\n",
      "charlson_comorbidity_index        58\n",
      "respiratory_rate                2897\n",
      "heart_rate                      2896\n",
      "oxygen_saturation               3462\n",
      "temperature                     3469\n",
      "dtype: int64\n"
     ]
    }
   ],
   "source": [
    "nan_counts = combined_df_with_vitals.isna().sum()\n",
    "# Columns without NaN values\n",
    "print(\"Columns without NaN values:\")\n",
    "print(combined_df_with_vitals.columns[combined_df_with_vitals.isna().sum() == 0])\n",
    "# Columns with NaN values and their counts\n",
    "nan_columns = nan_counts[nan_counts > 0]\n",
    "print(\"Columns with NaN values and their counts:\")\n",
    "print(nan_columns)"
   ]
  },
  {
   "cell_type": "code",
   "execution_count": 131,
   "metadata": {},
   "outputs": [
    {
     "name": "stdout",
     "output_type": "stream",
     "text": [
      "Missing `hadm_id` in patient_info_df: 0\n",
      "Missing `hadm_id` in lipase_values_df: 0\n",
      "Missing `hadm_id` in amylase_values_df: 19449\n",
      "Missing `hadm_id` in crp_values_df: 0\n"
     ]
    }
   ],
   "source": [
    "print(\"Missing `hadm_id` in patient_info_df:\", patient_info_df['hadm_id'].isna().sum())\n",
    "print(\"Missing `hadm_id` in lipase_values_df:\", lipase_values_df['hadm_id'].isna().sum())\n",
    "print(\"Missing `hadm_id` in amylase_values_df:\", amylase_values_df['hadm_id'].isna().sum())\n",
    "print(\"Missing `hadm_id` in crp_values_df:\", crp_values_df['hadm_id'].isna().sum())\n",
    "# Continue for all intermediate dataframes"
   ]
  },
  {
   "cell_type": "code",
   "execution_count": 133,
   "metadata": {},
   "outputs": [
    {
     "name": "stdout",
     "output_type": "stream",
     "text": [
      "Columns without NaN values:\n",
      "Index(['subject_id', 'hadm_id', 'admittime', 'dischtime', 'gender',\n",
      "       'approximate_age_at_admission', 'race', 'actual_age',\n",
      "       'in_hospital_death', 'length_of_stay', 'is_confirmed_ap',\n",
      "       'charlson_comorbidity_index'],\n",
      "      dtype='object')\n",
      "Columns with NaN values and their counts:\n",
      "charttime_lipase     1890\n",
      "lipase_level         1890\n",
      "charttime_amylase    3486\n",
      "amylase_level        3486\n",
      "charttime            1793\n",
      "crp_level            1793\n",
      "icd_code             2370\n",
      "average_weight       2643\n",
      "respiratory_rate     2839\n",
      "heart_rate           2838\n",
      "oxygen_saturation    3404\n",
      "temperature          3411\n",
      "dtype: int64\n"
     ]
    }
   ],
   "source": [
    "# Delete those rows with missing hadm_id\n",
    "combined_df_with_vitals = combined_df_with_vitals.dropna(subset=['hadm_id'])\n",
    "\n",
    "nan_counts = combined_df_with_vitals.isna().sum()\n",
    "# Columns without NaN values\n",
    "print(\"Columns without NaN values:\")\n",
    "print(combined_df_with_vitals.columns[combined_df_with_vitals.isna().sum() == 0])\n",
    "# Columns with NaN values and their counts\n",
    "nan_columns = nan_counts[nan_counts > 0]\n",
    "print(\"Columns with NaN values and their counts:\")\n",
    "print(nan_columns)"
   ]
  },
  {
   "cell_type": "code",
   "execution_count": 135,
   "metadata": {},
   "outputs": [],
   "source": [
    "# Generate a CSV file with the final combined dataset\n",
    "combined_df_with_vitals.to_csv('AP_ICD_CCI_dataset.csv', index=False)"
   ]
  }
 ],
 "metadata": {
  "colab": {
   "provenance": []
  },
  "kernelspec": {
   "display_name": "COMP90089",
   "language": "python",
   "name": "python3"
  },
  "language_info": {
   "codemirror_mode": {
    "name": "ipython",
    "version": 3
   },
   "file_extension": ".py",
   "mimetype": "text/x-python",
   "name": "python",
   "nbconvert_exporter": "python",
   "pygments_lexer": "ipython3",
   "version": "3.12.5"
  }
 },
 "nbformat": 4,
 "nbformat_minor": 0
}

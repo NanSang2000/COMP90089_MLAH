{
  "nbformat": 4,
  "nbformat_minor": 0,
  "metadata": {
    "colab": {
      "provenance": []
    },
    "kernelspec": {
      "name": "python3",
      "display_name": "Python 3"
    },
    "language_info": {
      "name": "python"
    }
  },
  "cells": [
    {
      "cell_type": "markdown",
      "source": [
        "#### Installing packages"
      ],
      "metadata": {
        "id": "l2Ena0lv3xe9"
      }
    },
    {
      "cell_type": "code",
      "execution_count": 1,
      "metadata": {
        "id": "uL0zX98kWvWH",
        "colab": {
          "base_uri": "https://localhost:8080/"
        },
        "outputId": "54c23729-d985-4bc0-c8bb-d66511d76ca6"
      },
      "outputs": [
        {
          "output_type": "stream",
          "name": "stdout",
          "text": [
            "\u001b[2K     \u001b[90m━━━━━━━━━━━━━━━━━━━━━━━━━━━━━━━━━━━━━━━━\u001b[0m \u001b[32m41.9/41.9 kB\u001b[0m \u001b[31m1.1 MB/s\u001b[0m eta \u001b[36m0:00:00\u001b[0m\n",
            "\u001b[2K   \u001b[90m━━━━━━━━━━━━━━━━━━━━━━━━━━━━━━━━━━━━━━━━\u001b[0m \u001b[32m8.7/8.7 MB\u001b[0m \u001b[31m33.8 MB/s\u001b[0m eta \u001b[36m0:00:00\u001b[0m\n",
            "\u001b[2K   \u001b[90m━━━━━━━━━━━━━━━━━━━━━━━━━━━━━━━━━━━━━━━━\u001b[0m \u001b[32m6.9/6.9 MB\u001b[0m \u001b[31m30.0 MB/s\u001b[0m eta \u001b[36m0:00:00\u001b[0m\n",
            "\u001b[2K   \u001b[90m━━━━━━━━━━━━━━━━━━━━━━━━━━━━━━━━━━━━━━━━\u001b[0m \u001b[32m79.3/79.3 kB\u001b[0m \u001b[31m3.5 MB/s\u001b[0m eta \u001b[36m0:00:00\u001b[0m\n",
            "\u001b[?25h"
          ]
        }
      ],
      "source": [
        "!pip install streamlit -q"
      ]
    },
    {
      "cell_type": "code",
      "source": [
        "!pip install pyngrok"
      ],
      "metadata": {
        "colab": {
          "base_uri": "https://localhost:8080/"
        },
        "id": "yJupzPUyXLlc",
        "outputId": "3b5354dd-7c3d-48ae-e85e-e06ed8006aa1"
      },
      "execution_count": 2,
      "outputs": [
        {
          "output_type": "stream",
          "name": "stdout",
          "text": [
            "Collecting pyngrok\n",
            "  Downloading pyngrok-7.2.0-py3-none-any.whl.metadata (7.4 kB)\n",
            "Requirement already satisfied: PyYAML>=5.1 in /usr/local/lib/python3.10/dist-packages (from pyngrok) (6.0.2)\n",
            "Downloading pyngrok-7.2.0-py3-none-any.whl (22 kB)\n",
            "Installing collected packages: pyngrok\n",
            "Successfully installed pyngrok-7.2.0\n"
          ]
        }
      ]
    },
    {
      "cell_type": "code",
      "source": [
        "pip install scikit-learn==1.2.2"
      ],
      "metadata": {
        "colab": {
          "base_uri": "https://localhost:8080/"
        },
        "id": "y731B9Zz2Oz2",
        "outputId": "b315d849-9b0a-42d6-c605-7914a5195a23"
      },
      "execution_count": 3,
      "outputs": [
        {
          "output_type": "stream",
          "name": "stdout",
          "text": [
            "Collecting scikit-learn==1.2.2\n",
            "  Downloading scikit_learn-1.2.2-cp310-cp310-manylinux_2_17_x86_64.manylinux2014_x86_64.whl.metadata (11 kB)\n",
            "Requirement already satisfied: numpy>=1.17.3 in /usr/local/lib/python3.10/dist-packages (from scikit-learn==1.2.2) (1.26.4)\n",
            "Requirement already satisfied: scipy>=1.3.2 in /usr/local/lib/python3.10/dist-packages (from scikit-learn==1.2.2) (1.13.1)\n",
            "Requirement already satisfied: joblib>=1.1.1 in /usr/local/lib/python3.10/dist-packages (from scikit-learn==1.2.2) (1.4.2)\n",
            "Requirement already satisfied: threadpoolctl>=2.0.0 in /usr/local/lib/python3.10/dist-packages (from scikit-learn==1.2.2) (3.5.0)\n",
            "Downloading scikit_learn-1.2.2-cp310-cp310-manylinux_2_17_x86_64.manylinux2014_x86_64.whl (9.6 MB)\n",
            "\u001b[2K   \u001b[90m━━━━━━━━━━━━━━━━━━━━━━━━━━━━━━━━━━━━━━━━\u001b[0m \u001b[32m9.6/9.6 MB\u001b[0m \u001b[31m53.1 MB/s\u001b[0m eta \u001b[36m0:00:00\u001b[0m\n",
            "\u001b[?25hInstalling collected packages: scikit-learn\n",
            "  Attempting uninstall: scikit-learn\n",
            "    Found existing installation: scikit-learn 1.5.2\n",
            "    Uninstalling scikit-learn-1.5.2:\n",
            "      Successfully uninstalled scikit-learn-1.5.2\n",
            "Successfully installed scikit-learn-1.2.2\n"
          ]
        }
      ]
    },
    {
      "cell_type": "code",
      "source": [
        "pip install joblib==1.2.0"
      ],
      "metadata": {
        "colab": {
          "base_uri": "https://localhost:8080/"
        },
        "id": "vKdSm7A05G-P",
        "outputId": "d2099869-b947-41e5-aee7-2d1471582fc3"
      },
      "execution_count": 4,
      "outputs": [
        {
          "output_type": "stream",
          "name": "stdout",
          "text": [
            "Collecting joblib==1.2.0\n",
            "  Downloading joblib-1.2.0-py3-none-any.whl.metadata (5.3 kB)\n",
            "Downloading joblib-1.2.0-py3-none-any.whl (297 kB)\n",
            "\u001b[?25l   \u001b[90m━━━━━━━━━━━━━━━━━━━━━━━━━━━━━━━━━━━━━━━━\u001b[0m \u001b[32m0.0/298.0 kB\u001b[0m \u001b[31m?\u001b[0m eta \u001b[36m-:--:--\u001b[0m\r\u001b[2K   \u001b[91m━━━━━━━━━━━━━━━━━━━━━━━\u001b[0m\u001b[90m╺\u001b[0m\u001b[90m━━━━━━━━━━━━━━━━\u001b[0m \u001b[32m174.1/298.0 kB\u001b[0m \u001b[31m5.0 MB/s\u001b[0m eta \u001b[36m0:00:01\u001b[0m\r\u001b[2K   \u001b[90m━━━━━━━━━━━━━━━━━━━━━━━━━━━━━━━━━━━━━━━━\u001b[0m \u001b[32m298.0/298.0 kB\u001b[0m \u001b[31m4.7 MB/s\u001b[0m eta \u001b[36m0:00:00\u001b[0m\n",
            "\u001b[?25hInstalling collected packages: joblib\n",
            "  Attempting uninstall: joblib\n",
            "    Found existing installation: joblib 1.4.2\n",
            "    Uninstalling joblib-1.4.2:\n",
            "      Successfully uninstalled joblib-1.4.2\n",
            "Successfully installed joblib-1.2.0\n"
          ]
        }
      ]
    },
    {
      "cell_type": "code",
      "source": [
        "from google.colab import drive\n",
        "drive.mount('/content/drive', force_remount = True)"
      ],
      "metadata": {
        "colab": {
          "base_uri": "https://localhost:8080/"
        },
        "id": "nYZllBmvW0a4",
        "outputId": "8803545a-4643-4b2d-8d13-c309de6433ff"
      },
      "execution_count": 5,
      "outputs": [
        {
          "output_type": "stream",
          "name": "stdout",
          "text": [
            "Mounted at /content/drive\n"
          ]
        }
      ]
    },
    {
      "cell_type": "code",
      "source": [
        "# import packages\n",
        "import pandas as pd\n",
        "import joblib\n",
        "import streamlit as st\n",
        "import numpy as np\n",
        "from pyngrok import ngrok\n",
        "from sklearn.pipeline import Pipeline\n",
        "from sklearn.feature_selection import chi2, SelectKBest\n",
        "from sklearn.preprocessing import LabelEncoder"
      ],
      "metadata": {
        "id": "WdFy9EXxvI4G"
      },
      "execution_count": 6,
      "outputs": []
    },
    {
      "cell_type": "code",
      "source": [
        " def disease_selection():\n",
        "  df = pd.read_csv(\"/content/drive/MyDrive/High_LP_Scan_AP_Comorbidities_Dataset.csv\")\n",
        "\n",
        "  disease_dummies = pd.get_dummies(df['long_title'])\n",
        "  data = pd.concat([df, disease_dummies], axis=1).drop('long_title', axis=1)\n",
        "\n",
        "  # aggregate all the rows into unique patients based on subject_id\n",
        "  aggregated_data = data.groupby('subject_id').agg({\n",
        "      'lipase_level': 'first',\n",
        "      'age': 'first',\n",
        "      'gender': 'first',\n",
        "      'race': 'first',\n",
        "      'in_hospital_death': 'max',  # If death recorded in any row, we consider the patient deceased\n",
        "      'length_of_stay': 'first',\n",
        "      **{col: 'max' for col in disease_dummies.columns}  # max for binary disease presence across multiple rows\n",
        "  }).reset_index()\n",
        "\n",
        "  # grouping all variants of AP into single column\n",
        "  columns_to_drop = [col for col in aggregated_data.columns if 'acute pancreatitis' in col.lower()]\n",
        "\n",
        "  aggregated_data.drop(columns = columns_to_drop, inplace = True)\n",
        "\n",
        "  X = aggregated_data.drop(['subject_id', 'in_hospital_death'], axis = 1)\n",
        "\n",
        "  y = aggregated_data['in_hospital_death'].astype(int)  # Converting boolean to int\n",
        "\n",
        "  X_encoded = X.apply(LabelEncoder().fit_transform)\n",
        "\n",
        "# Apply Chi-squared test\n",
        "  chi2_features = SelectKBest(score_func = chi2, k = 'all')  # 'all' to test each feature\n",
        "  chi2_features.fit(X_encoded, y)\n",
        "  chi2_scores = pd.DataFrame(chi2_features.scores_, columns = ['score'], index = X.columns)\n",
        "  chi2_p_values = pd.DataFrame(chi2_features.pvalues_, columns = ['p-value'], index = X.columns)\n",
        "  chi2_results = pd.concat([chi2_scores, chi2_p_values], axis=1)\n",
        "\n",
        "  significant_features = chi2_results[chi2_results['p-value'] < 0.05]\n",
        "  return list(significant_features.index)[3:]+[\"Acute pancreatitis\"]"
      ],
      "metadata": {
        "id": "nEJvLFtdtS6e"
      },
      "execution_count": 7,
      "outputs": []
    },
    {
      "cell_type": "code",
      "source": [
        "model = joblib.load('/content/drive/MyDrive/SVMC_small.joblib')\n",
        "data = {\n",
        "        'age': [80],\n",
        "        'gender': ['M'],\n",
        "        'race': [\"WHITE\"],\n",
        "        'lipase_level': [2333.4],\n",
        "        'length_of_stay': [65],\n",
        "    }\n",
        "\n",
        "disease_list = disease_selection()\n",
        "\n",
        "selected_diseases = ['Acute pancreatitis']\n",
        "    # Add diseases as binary features\n",
        "for disease in disease_list:\n",
        "  data[disease] = [True if disease in selected_diseases else False]\n",
        "\n",
        "features = pd.DataFrame(data)\n",
        "\n",
        "model.predict_proba(features)[:, 1][0]"
      ],
      "metadata": {
        "id": "eIu1oR612vC_",
        "colab": {
          "base_uri": "https://localhost:8080/"
        },
        "outputId": "ae2e8996-e81d-4982-d0ca-a03e0a8bd468"
      },
      "execution_count": 8,
      "outputs": [
        {
          "output_type": "execute_result",
          "data": {
            "text/plain": [
              "0.00015693968605793614"
            ]
          },
          "metadata": {},
          "execution_count": 8
        }
      ]
    },
    {
      "cell_type": "code",
      "source": [
        "model"
      ],
      "metadata": {
        "colab": {
          "base_uri": "https://localhost:8080/",
          "height": 227
        },
        "id": "SMhVubG-sG09",
        "outputId": "295aa04f-0518-41d2-cde1-90bac47a77d9"
      },
      "execution_count": 9,
      "outputs": [
        {
          "output_type": "execute_result",
          "data": {
            "text/plain": [
              "Pipeline(steps=[('preprocessor',\n",
              "                 ColumnTransformer(transformers=[('num', StandardScaler(),\n",
              "                                                  ['lipase_level', 'age',\n",
              "                                                   'length_of_stay']),\n",
              "                                                 ('binary', 'passthrough',\n",
              "                                                  ['Abdominal aneurysm without '\n",
              "                                                   'mention of rupture',\n",
              "                                                   'Abnormal uterine and '\n",
              "                                                   'vaginal bleeding, '\n",
              "                                                   'unspecified',\n",
              "                                                   'Acute (reversible) '\n",
              "                                                   'ischemia of large '\n",
              "                                                   'intestine, extent '\n",
              "                                                   'unspecified',\n",
              "                                                   'Acute and subacute '\n",
              "                                                   'infective end...\n",
              "                                                   'specified sites',\n",
              "                                                   'Cardiac catheterization as '\n",
              "                                                   'the cause of abnormal '\n",
              "                                                   'reaction of patient, or of '\n",
              "                                                   'later complication, '\n",
              "                                                   'without mention of '\n",
              "                                                   'misadventure at time of '\n",
              "                                                   'procedure',\n",
              "                                                   'Cardiac pacemaker in situ',\n",
              "                                                   'Chronic atrial '\n",
              "                                                   'fibrillation', ...]),\n",
              "                                                 ('cat',\n",
              "                                                  OneHotEncoder(handle_unknown='ignore'),\n",
              "                                                  ['gender', 'race'])])),\n",
              "                ('smote', SMOTE(random_state=42)),\n",
              "                ('classifier', SVC(probability=True))])"
            ],
            "text/html": [
              "<style>#sk-container-id-1 {color: black;background-color: white;}#sk-container-id-1 pre{padding: 0;}#sk-container-id-1 div.sk-toggleable {background-color: white;}#sk-container-id-1 label.sk-toggleable__label {cursor: pointer;display: block;width: 100%;margin-bottom: 0;padding: 0.3em;box-sizing: border-box;text-align: center;}#sk-container-id-1 label.sk-toggleable__label-arrow:before {content: \"▸\";float: left;margin-right: 0.25em;color: #696969;}#sk-container-id-1 label.sk-toggleable__label-arrow:hover:before {color: black;}#sk-container-id-1 div.sk-estimator:hover label.sk-toggleable__label-arrow:before {color: black;}#sk-container-id-1 div.sk-toggleable__content {max-height: 0;max-width: 0;overflow: hidden;text-align: left;background-color: #f0f8ff;}#sk-container-id-1 div.sk-toggleable__content pre {margin: 0.2em;color: black;border-radius: 0.25em;background-color: #f0f8ff;}#sk-container-id-1 input.sk-toggleable__control:checked~div.sk-toggleable__content {max-height: 200px;max-width: 100%;overflow: auto;}#sk-container-id-1 input.sk-toggleable__control:checked~label.sk-toggleable__label-arrow:before {content: \"▾\";}#sk-container-id-1 div.sk-estimator input.sk-toggleable__control:checked~label.sk-toggleable__label {background-color: #d4ebff;}#sk-container-id-1 div.sk-label input.sk-toggleable__control:checked~label.sk-toggleable__label {background-color: #d4ebff;}#sk-container-id-1 input.sk-hidden--visually {border: 0;clip: rect(1px 1px 1px 1px);clip: rect(1px, 1px, 1px, 1px);height: 1px;margin: -1px;overflow: hidden;padding: 0;position: absolute;width: 1px;}#sk-container-id-1 div.sk-estimator {font-family: monospace;background-color: #f0f8ff;border: 1px dotted black;border-radius: 0.25em;box-sizing: border-box;margin-bottom: 0.5em;}#sk-container-id-1 div.sk-estimator:hover {background-color: #d4ebff;}#sk-container-id-1 div.sk-parallel-item::after {content: \"\";width: 100%;border-bottom: 1px solid gray;flex-grow: 1;}#sk-container-id-1 div.sk-label:hover label.sk-toggleable__label {background-color: #d4ebff;}#sk-container-id-1 div.sk-serial::before {content: \"\";position: absolute;border-left: 1px solid gray;box-sizing: border-box;top: 0;bottom: 0;left: 50%;z-index: 0;}#sk-container-id-1 div.sk-serial {display: flex;flex-direction: column;align-items: center;background-color: white;padding-right: 0.2em;padding-left: 0.2em;position: relative;}#sk-container-id-1 div.sk-item {position: relative;z-index: 1;}#sk-container-id-1 div.sk-parallel {display: flex;align-items: stretch;justify-content: center;background-color: white;position: relative;}#sk-container-id-1 div.sk-item::before, #sk-container-id-1 div.sk-parallel-item::before {content: \"\";position: absolute;border-left: 1px solid gray;box-sizing: border-box;top: 0;bottom: 0;left: 50%;z-index: -1;}#sk-container-id-1 div.sk-parallel-item {display: flex;flex-direction: column;z-index: 1;position: relative;background-color: white;}#sk-container-id-1 div.sk-parallel-item:first-child::after {align-self: flex-end;width: 50%;}#sk-container-id-1 div.sk-parallel-item:last-child::after {align-self: flex-start;width: 50%;}#sk-container-id-1 div.sk-parallel-item:only-child::after {width: 0;}#sk-container-id-1 div.sk-dashed-wrapped {border: 1px dashed gray;margin: 0 0.4em 0.5em 0.4em;box-sizing: border-box;padding-bottom: 0.4em;background-color: white;}#sk-container-id-1 div.sk-label label {font-family: monospace;font-weight: bold;display: inline-block;line-height: 1.2em;}#sk-container-id-1 div.sk-label-container {text-align: center;}#sk-container-id-1 div.sk-container {/* jupyter's `normalize.less` sets `[hidden] { display: none; }` but bootstrap.min.css set `[hidden] { display: none !important; }` so we also need the `!important` here to be able to override the default hidden behavior on the sphinx rendered scikit-learn.org. See: https://github.com/scikit-learn/scikit-learn/issues/21755 */display: inline-block !important;position: relative;}#sk-container-id-1 div.sk-text-repr-fallback {display: none;}</style><div id=\"sk-container-id-1\" class=\"sk-top-container\"><div class=\"sk-text-repr-fallback\"><pre>Pipeline(steps=[(&#x27;preprocessor&#x27;,\n",
              "                 ColumnTransformer(transformers=[(&#x27;num&#x27;, StandardScaler(),\n",
              "                                                  [&#x27;lipase_level&#x27;, &#x27;age&#x27;,\n",
              "                                                   &#x27;length_of_stay&#x27;]),\n",
              "                                                 (&#x27;binary&#x27;, &#x27;passthrough&#x27;,\n",
              "                                                  [&#x27;Abdominal aneurysm without &#x27;\n",
              "                                                   &#x27;mention of rupture&#x27;,\n",
              "                                                   &#x27;Abnormal uterine and &#x27;\n",
              "                                                   &#x27;vaginal bleeding, &#x27;\n",
              "                                                   &#x27;unspecified&#x27;,\n",
              "                                                   &#x27;Acute (reversible) &#x27;\n",
              "                                                   &#x27;ischemia of large &#x27;\n",
              "                                                   &#x27;intestine, extent &#x27;\n",
              "                                                   &#x27;unspecified&#x27;,\n",
              "                                                   &#x27;Acute and subacute &#x27;\n",
              "                                                   &#x27;infective end...\n",
              "                                                   &#x27;specified sites&#x27;,\n",
              "                                                   &#x27;Cardiac catheterization as &#x27;\n",
              "                                                   &#x27;the cause of abnormal &#x27;\n",
              "                                                   &#x27;reaction of patient, or of &#x27;\n",
              "                                                   &#x27;later complication, &#x27;\n",
              "                                                   &#x27;without mention of &#x27;\n",
              "                                                   &#x27;misadventure at time of &#x27;\n",
              "                                                   &#x27;procedure&#x27;,\n",
              "                                                   &#x27;Cardiac pacemaker in situ&#x27;,\n",
              "                                                   &#x27;Chronic atrial &#x27;\n",
              "                                                   &#x27;fibrillation&#x27;, ...]),\n",
              "                                                 (&#x27;cat&#x27;,\n",
              "                                                  OneHotEncoder(handle_unknown=&#x27;ignore&#x27;),\n",
              "                                                  [&#x27;gender&#x27;, &#x27;race&#x27;])])),\n",
              "                (&#x27;smote&#x27;, SMOTE(random_state=42)),\n",
              "                (&#x27;classifier&#x27;, SVC(probability=True))])</pre><b>In a Jupyter environment, please rerun this cell to show the HTML representation or trust the notebook. <br />On GitHub, the HTML representation is unable to render, please try loading this page with nbviewer.org.</b></div><div class=\"sk-container\" hidden><div class=\"sk-item sk-dashed-wrapped\"><div class=\"sk-label-container\"><div class=\"sk-label sk-toggleable\"><input class=\"sk-toggleable__control sk-hidden--visually\" id=\"sk-estimator-id-1\" type=\"checkbox\" ><label for=\"sk-estimator-id-1\" class=\"sk-toggleable__label sk-toggleable__label-arrow\">Pipeline</label><div class=\"sk-toggleable__content\"><pre>Pipeline(steps=[(&#x27;preprocessor&#x27;,\n",
              "                 ColumnTransformer(transformers=[(&#x27;num&#x27;, StandardScaler(),\n",
              "                                                  [&#x27;lipase_level&#x27;, &#x27;age&#x27;,\n",
              "                                                   &#x27;length_of_stay&#x27;]),\n",
              "                                                 (&#x27;binary&#x27;, &#x27;passthrough&#x27;,\n",
              "                                                  [&#x27;Abdominal aneurysm without &#x27;\n",
              "                                                   &#x27;mention of rupture&#x27;,\n",
              "                                                   &#x27;Abnormal uterine and &#x27;\n",
              "                                                   &#x27;vaginal bleeding, &#x27;\n",
              "                                                   &#x27;unspecified&#x27;,\n",
              "                                                   &#x27;Acute (reversible) &#x27;\n",
              "                                                   &#x27;ischemia of large &#x27;\n",
              "                                                   &#x27;intestine, extent &#x27;\n",
              "                                                   &#x27;unspecified&#x27;,\n",
              "                                                   &#x27;Acute and subacute &#x27;\n",
              "                                                   &#x27;infective end...\n",
              "                                                   &#x27;specified sites&#x27;,\n",
              "                                                   &#x27;Cardiac catheterization as &#x27;\n",
              "                                                   &#x27;the cause of abnormal &#x27;\n",
              "                                                   &#x27;reaction of patient, or of &#x27;\n",
              "                                                   &#x27;later complication, &#x27;\n",
              "                                                   &#x27;without mention of &#x27;\n",
              "                                                   &#x27;misadventure at time of &#x27;\n",
              "                                                   &#x27;procedure&#x27;,\n",
              "                                                   &#x27;Cardiac pacemaker in situ&#x27;,\n",
              "                                                   &#x27;Chronic atrial &#x27;\n",
              "                                                   &#x27;fibrillation&#x27;, ...]),\n",
              "                                                 (&#x27;cat&#x27;,\n",
              "                                                  OneHotEncoder(handle_unknown=&#x27;ignore&#x27;),\n",
              "                                                  [&#x27;gender&#x27;, &#x27;race&#x27;])])),\n",
              "                (&#x27;smote&#x27;, SMOTE(random_state=42)),\n",
              "                (&#x27;classifier&#x27;, SVC(probability=True))])</pre></div></div></div><div class=\"sk-serial\"><div class=\"sk-item sk-dashed-wrapped\"><div class=\"sk-label-container\"><div class=\"sk-label sk-toggleable\"><input class=\"sk-toggleable__control sk-hidden--visually\" id=\"sk-estimator-id-2\" type=\"checkbox\" ><label for=\"sk-estimator-id-2\" class=\"sk-toggleable__label sk-toggleable__label-arrow\">preprocessor: ColumnTransformer</label><div class=\"sk-toggleable__content\"><pre>ColumnTransformer(transformers=[(&#x27;num&#x27;, StandardScaler(),\n",
              "                                 [&#x27;lipase_level&#x27;, &#x27;age&#x27;, &#x27;length_of_stay&#x27;]),\n",
              "                                (&#x27;binary&#x27;, &#x27;passthrough&#x27;,\n",
              "                                 [&#x27;Abdominal aneurysm without mention of &#x27;\n",
              "                                  &#x27;rupture&#x27;,\n",
              "                                  &#x27;Abnormal uterine and vaginal bleeding, &#x27;\n",
              "                                  &#x27;unspecified&#x27;,\n",
              "                                  &#x27;Acute (reversible) ischemia of large &#x27;\n",
              "                                  &#x27;intestine, extent unspecified&#x27;,\n",
              "                                  &#x27;Acute and subacute infective endocarditis&#x27;,\n",
              "                                  &#x27;Acute kidney failure with lesion...\n",
              "                                  &#x27;Body mass index (BMI) 37.0-37.9, adult&#x27;,\n",
              "                                  &#x27;Body mass index (BMI) 50.0-59.9, adult&#x27;,\n",
              "                                  &#x27;Brain death&#x27;,\n",
              "                                  &#x27;Carcinoma in situ of other specified sites&#x27;,\n",
              "                                  &#x27;Cardiac catheterization as the cause of &#x27;\n",
              "                                  &#x27;abnormal reaction of patient, or of later &#x27;\n",
              "                                  &#x27;complication, without mention of &#x27;\n",
              "                                  &#x27;misadventure at time of procedure&#x27;,\n",
              "                                  &#x27;Cardiac pacemaker in situ&#x27;,\n",
              "                                  &#x27;Chronic atrial fibrillation&#x27;, ...]),\n",
              "                                (&#x27;cat&#x27;, OneHotEncoder(handle_unknown=&#x27;ignore&#x27;),\n",
              "                                 [&#x27;gender&#x27;, &#x27;race&#x27;])])</pre></div></div></div><div class=\"sk-parallel\"><div class=\"sk-parallel-item\"><div class=\"sk-item\"><div class=\"sk-label-container\"><div class=\"sk-label sk-toggleable\"><input class=\"sk-toggleable__control sk-hidden--visually\" id=\"sk-estimator-id-3\" type=\"checkbox\" ><label for=\"sk-estimator-id-3\" class=\"sk-toggleable__label sk-toggleable__label-arrow\">num</label><div class=\"sk-toggleable__content\"><pre>[&#x27;lipase_level&#x27;, &#x27;age&#x27;, &#x27;length_of_stay&#x27;]</pre></div></div></div><div class=\"sk-serial\"><div class=\"sk-item\"><div class=\"sk-estimator sk-toggleable\"><input class=\"sk-toggleable__control sk-hidden--visually\" id=\"sk-estimator-id-4\" type=\"checkbox\" ><label for=\"sk-estimator-id-4\" class=\"sk-toggleable__label sk-toggleable__label-arrow\">StandardScaler</label><div class=\"sk-toggleable__content\"><pre>StandardScaler()</pre></div></div></div></div></div></div><div class=\"sk-parallel-item\"><div class=\"sk-item\"><div class=\"sk-label-container\"><div class=\"sk-label sk-toggleable\"><input class=\"sk-toggleable__control sk-hidden--visually\" id=\"sk-estimator-id-5\" type=\"checkbox\" ><label for=\"sk-estimator-id-5\" class=\"sk-toggleable__label sk-toggleable__label-arrow\">binary</label><div class=\"sk-toggleable__content\"><pre>[&#x27;Abdominal aneurysm without mention of rupture&#x27;, &#x27;Abnormal uterine and vaginal bleeding, unspecified&#x27;, &#x27;Acute (reversible) ischemia of large intestine, extent unspecified&#x27;, &#x27;Acute and subacute infective endocarditis&#x27;, &#x27;Acute kidney failure with lesion of tubular necrosis&#x27;, &#x27;Acute kidney failure with tubular necrosis&#x27;, &#x27;Acute lymphoid leukemia, without mention of having achieved remission&#x27;, &#x27;Acute myocardial infarction of other inferior wall, initial episode of care&#x27;, &#x27;Acute on chronic combined systolic (congestive) and diastolic (congestive) heart failure&#x27;, &#x27;Acute systolic heart failure&#x27;, &#x27;Acute venous embolism and thrombosis of deep vessels of proximal lower extremity&#x27;, &#x27;Alcoholic hepatic failure without coma&#x27;, &#x27;Alcoholic hepatitis with ascites&#x27;, &#x27;Aneurysm of other specified artery&#x27;, &#x27;Antineoplastic and immunosuppressive drugs causing adverse effects in therapeutic use&#x27;, &#x27;Aspiration of fluid as the cause of abnormal reaction of the patient, or of later complication, without mention of misadventure at the time of the procedure&#x27;, &#x27;Atrial fibrillation&#x27;, &#x27;Atrial flutter&#x27;, &#x27;Atypical atrial flutter&#x27;, &#x27;Bladder neck obstruction&#x27;, &#x27;Bloodstream infection due to central venous catheter&#x27;, &#x27;Body Mass Index 39.0-39.9, adult&#x27;, &#x27;Body mass index (BMI) 23.0-23.9, adult&#x27;, &#x27;Body mass index (BMI) 37.0-37.9, adult&#x27;, &#x27;Body mass index (BMI) 50.0-59.9, adult&#x27;, &#x27;Brain death&#x27;, &#x27;Carcinoma in situ of other specified sites&#x27;, &#x27;Cardiac catheterization as the cause of abnormal reaction of patient, or of later complication, without mention of misadventure at time of procedure&#x27;, &#x27;Cardiac pacemaker in situ&#x27;, &#x27;Chronic atrial fibrillation&#x27;, &#x27;Chronic hepatitis C with hepatic coma&#x27;, &#x27;Chronic kidney disease, unspecified&#x27;, &#x27;Chronic obstructive pulmonary disease with (acute) lower respiratory infection&#x27;, &#x27;Chronic respiratory failure with hypercapnia&#x27;, &#x27;Chronic venous embolism and thrombosis of superficial veins of upper extremity&#x27;, &#x27;Coagulation defect, unspecified&#x27;, &#x27;Cocaine dependence, continuous&#x27;, &#x27;Cocaine use, unspecified, uncomplicated&#x27;, &#x27;Combined systolic and diastolic heart failure, unspecified&#x27;, &#x27;Complications of transplanted kidney&#x27;, &#x27;Compression of brain&#x27;, &#x27;Congestive heart failure, unspecified&#x27;, &#x27;Coronary atherosclerosis of native coronary artery&#x27;, &#x27;Cyanosis&#x27;, &#x27;Cyst of pancreas&#x27;, &#x27;Defibrination syndrome&#x27;, &#x27;Dependence on respirator [ventilator] status&#x27;, &#x27;Diabetes mellitus without mention of complication, type II or unspecified type, not stated as uncontrolled&#x27;, &#x27;Diabetes with hyperosmolarity, type II or unspecified type, uncontrolled&#x27;, &#x27;Dietary folate deficiency anemia&#x27;, &#x27;Diffuse acute infarction of large intestine&#x27;, &#x27;Do not resuscitate&#x27;, &#x27;Encounter for palliative care&#x27;, &#x27;Family history of diabetes mellitus&#x27;, &#x27;Family history of ischemic heart disease&#x27;, &#x27;Focal (segmental) acute infarction of large intestine&#x27;, &#x27;Focal (segmental) acute infarction of small intestine&#x27;, &#x27;Foreign body in respiratory tree, unspecified&#x27;, &#x27;Hemoperitoneum&#x27;, &#x27;Hemoptysis&#x27;, &#x27;Hemoptysis, unspecified&#x27;, &#x27;Hemorrhage of anus and rectum&#x27;, &#x27;Hemorrhage of rectum and anus&#x27;, &#x27;Heparin induced thrombocytopenia (HIT)&#x27;, &#x27;Hepatitis B carrier&#x27;, &#x27;Herpes simplex without mention of complication&#x27;, &#x27;Hip joint replacement&#x27;, &#x27;Hyperpotassemia&#x27;, &#x27;Hypertensive chronic kidney disease, unspecified, with chronic kidney disease stage I through stage IV, or unspecified&#x27;, &#x27;Hypertensive heart and chronic kidney disease with heart failure and stage 1 through stage 4 chronic kidney disease, or unspecified chronic kidney disease&#x27;, &#x27;Hypothyroidism, unspecified&#x27;, &#x27;Hypovolemic shock&#x27;, &#x27;Infection and inflammatory reaction due to other cardiac and vascular devices, implants and grafts, initial encounter&#x27;, &#x27;Infection with microorganisms without mention of resistance to multiple drugs&#x27;, &#x27;Influenza with pneumonia&#x27;, &#x27;Kwashiorkor&#x27;, &#x27;Liver transplant failure&#x27;, &#x27;Lung involvement in systemic sclerosis&#x27;, &#x27;Macroglobulinemia&#x27;, &#x27;Major depressive affective disorder, single episode, unspecified&#x27;, &#x27;Malignant neoplasm of bronchus and lung, unspecified&#x27;, &#x27;Malignant neoplasm of unspecified part of unspecified bronchus or lung&#x27;, &#x27;Malignant neoplasm of unspecified site of left female breast&#x27;, &quot;Meniere&#x27;s disease, unspecified ear&quot;, &#x27;Mononeuritis of lower limb, unspecified&#x27;, &#x27;Monoplegia of upper limb following unspecified cerebrovascular disease affecting left non-dominant side&#x27;, &#x27;Mucositis (ulcerative) due to antineoplastic therapy&#x27;, &#x27;NIHSS score 24&#x27;, &#x27;Nodular lymphoma, unspecified site, extranodal and solid organ sites&#x27;, &#x27;Non-pressure chronic ulcer of other part of left lower leg with unspecified severity&#x27;, &#x27;Non-pressure chronic ulcer of other part of right lower leg with unspecified severity&#x27;, &#x27;Noninfective gastroenteritis and colitis, unspecified&#x27;, &#x27;Nonrheumatic mitral (valve) prolapse&#x27;, &#x27;Nontraumatic compartment syndrome of abdomen&#x27;, &#x27;Obstructive chronic bronchitis with (acute) exacerbation&#x27;, &#x27;Opioid type dependence, continuous&#x27;, &#x27;Other and unspecified alcohol dependence, continuous&#x27;, &#x27;Other and unspecified angina pectoris&#x27;, &#x27;Other chronic pulmonary heart diseases&#x27;, &#x27;Other complication of vascular dialysis catheter, initial encounter&#x27;, &#x27;Other complications due to other cardiac device, implant, and graft&#x27;, &#x27;Other forms of acute ischemic heart disease&#x27;, &#x27;Other malignant lymphomas, unspecified site, extranodal and solid organ sites&#x27;, &#x27;Other obesity&#x27;, &#x27;Other pancytopenia&#x27;, &#x27;Other paraproteinemias&#x27;, &#x27;Other persistent atrial fibrillation&#x27;, &#x27;Other primary cardiomyopathies&#x27;, &#x27;Other psychoactive substance use, unspecified, uncomplicated&#x27;, &#x27;Other secondary pulmonary hypertension&#x27;, &#x27;Other sequelae of chronic liver disease&#x27;, &#x27;Other specified drug dependence, continuous&#x27;, &#x27;Other specified forms of hearing loss&#x27;, &#x27;Other specified gastritis, without mention of hemorrhage&#x27;, &#x27;Other specified mycoses&#x27;, &#x27;Other specified noninflammatory disorders of vagina&#x27;, &#x27;Other specified surgical operations and procedures causing abnormal patient reaction, or later complication, without mention of misadventure at time of operation&#x27;, &#x27;Other suppurative peritonitis&#x27;, &#x27;Pain in joint, forearm&#x27;, &#x27;Pain in right lower leg&#x27;, &#x27;Pathological fracture in neoplastic disease, pelvis, initial encounter for fracture&#x27;, &quot;Patient&#x27;s noncompliance with other medical treatment and regimen&quot;, &#x27;Personal history of alcoholism&#x27;, &#x27;Personal history of venous thrombosis and embolism&#x27;, &#x27;Pleural effusion in other conditions classified elsewhere&#x27;, &#x27;Pneumonia due to Hemophilus influenzae&#x27;, &#x27;Pneumonia due to Pseudomonas&#x27;, &#x27;Pneumonia due to other specified organism&#x27;, &#x27;Postinflammatory pulmonary fibrosis&#x27;, &#x27;Postoperative shock, not elsewhere classified&#x27;, &#x27;Pressure ulcer of left buttock, stage 2&#x27;, &#x27;Pressure ulcer of right buttock, stage 2&#x27;, &#x27;Pressure ulcer of sacral region, unstageable&#x27;, &#x27;Pressure ulcer, buttock&#x27;, &#x27;Pressure ulcer, other site&#x27;, &#x27;Pressure-induced deep tissue damage of right heel&#x27;, &#x27;Primary pulmonary hypertension&#x27;, &#x27;Pseudomonas (aeruginosa) (mallei) (pseudomallei) as the cause of diseases classified elsewhere&#x27;, &#x27;Pulmonary hypertension due to left heart disease&#x27;, &#x27;Pulmonary hypertension due to lung diseases and hypoxia&#x27;, &#x27;Rectal prolapse&#x27;, &#x27;Secondary esophageal varices without bleeding&#x27;, &#x27;Secondary malignant neoplasm of bone&#x27;, &#x27;Secondary malignant neoplasm of liver and intrahepatic bile duct&#x27;, &#x27;Sepsis due to streptococcus, group A&#x27;, &#x27;Septicemia due to serratia&#x27;, &#x27;Severe sepsis with septic shock&#x27;, &#x27;Sinoatrial node dysfunction&#x27;, &#x27;Streptococcus infection in conditions classified elsewhere and of unspecified site, other streptococcus&#x27;, &#x27;Subendocardial infarction, initial episode of care&#x27;, &#x27;Surgical operation with transplant of whole organ as the cause of abnormal reaction of the patient, or of later complication, without mention of misadventure at the time of the procedure&#x27;, &#x27;Surgical or other procedure not carried out because of contraindication&#x27;, &#x27;Systemic sclerosis&#x27;, &#x27;Tumor lysis syndrome&#x27;, &#x27;Type 2 diabetes mellitus with diabetic chronic kidney disease&#x27;, &#x27;Type 2 diabetes mellitus with diabetic peripheral angiopathy without gangrene&#x27;, &#x27;Type 2 diabetes mellitus with diabetic polyneuropathy&#x27;, &#x27;Type 2 diabetes mellitus with hypoglycemia without coma&#x27;, &#x27;Ulcer of esophagus with bleeding&#x27;, &#x27;Unilateral primary osteoarthritis, right knee&#x27;, &#x27;Unspecified atrial flutter&#x27;, &#x27;Unspecified deficiency anemia&#x27;, &#x27;Unspecified disease of pericardium&#x27;, &#x27;Unspecified local infection of skin and subcutaneous tissue&#x27;, &#x27;Unspecified mycosis&#x27;, &#x27;Unspecified septicemia&#x27;, &#x27;Unspecified viral hepatitis C with hepatic coma&#x27;, &#x27;Varicose veins of left lower extremity with both ulcer of other part of lower extremity and inflammation&#x27;, &#x27;Varicose veins of right lower extremity with both ulcer of other part of lower extremity and inflammation&#x27;, &#x27;Vascular disorders of kidney&#x27;, &#x27;Ventricular fibrillation&#x27;, &#x27;Ventricular tachycardia&#x27;, &#x27;Vitamin B12 deficiency anemia due to intrinsic factor deficiency&#x27;, &quot;Wernicke&#x27;s encephalopathy&quot;, &#x27;Acute pancreatitis&#x27;]</pre></div></div></div><div class=\"sk-serial\"><div class=\"sk-item\"><div class=\"sk-estimator sk-toggleable\"><input class=\"sk-toggleable__control sk-hidden--visually\" id=\"sk-estimator-id-6\" type=\"checkbox\" ><label for=\"sk-estimator-id-6\" class=\"sk-toggleable__label sk-toggleable__label-arrow\">passthrough</label><div class=\"sk-toggleable__content\"><pre>passthrough</pre></div></div></div></div></div></div><div class=\"sk-parallel-item\"><div class=\"sk-item\"><div class=\"sk-label-container\"><div class=\"sk-label sk-toggleable\"><input class=\"sk-toggleable__control sk-hidden--visually\" id=\"sk-estimator-id-7\" type=\"checkbox\" ><label for=\"sk-estimator-id-7\" class=\"sk-toggleable__label sk-toggleable__label-arrow\">cat</label><div class=\"sk-toggleable__content\"><pre>[&#x27;gender&#x27;, &#x27;race&#x27;]</pre></div></div></div><div class=\"sk-serial\"><div class=\"sk-item\"><div class=\"sk-estimator sk-toggleable\"><input class=\"sk-toggleable__control sk-hidden--visually\" id=\"sk-estimator-id-8\" type=\"checkbox\" ><label for=\"sk-estimator-id-8\" class=\"sk-toggleable__label sk-toggleable__label-arrow\">OneHotEncoder</label><div class=\"sk-toggleable__content\"><pre>OneHotEncoder(handle_unknown=&#x27;ignore&#x27;)</pre></div></div></div></div></div></div></div></div><div class=\"sk-item\"><div class=\"sk-estimator sk-toggleable\"><input class=\"sk-toggleable__control sk-hidden--visually\" id=\"sk-estimator-id-9\" type=\"checkbox\" ><label for=\"sk-estimator-id-9\" class=\"sk-toggleable__label sk-toggleable__label-arrow\">SMOTE</label><div class=\"sk-toggleable__content\"><pre>SMOTE(random_state=42)</pre></div></div></div><div class=\"sk-item\"><div class=\"sk-estimator sk-toggleable\"><input class=\"sk-toggleable__control sk-hidden--visually\" id=\"sk-estimator-id-10\" type=\"checkbox\" ><label for=\"sk-estimator-id-10\" class=\"sk-toggleable__label sk-toggleable__label-arrow\">SVC</label><div class=\"sk-toggleable__content\"><pre>SVC(probability=True)</pre></div></div></div></div></div></div></div>"
            ]
          },
          "metadata": {},
          "execution_count": 9
        }
      ]
    },
    {
      "cell_type": "code",
      "source": [
        "%%writefile app.py\n",
        "\n",
        "import pandas as pd\n",
        "import joblib\n",
        "import streamlit as st\n",
        "import numpy as np\n",
        "from pyngrok import ngrok\n",
        "from sklearn.pipeline import Pipeline\n",
        "from sklearn.feature_selection import chi2, SelectKBest\n",
        "from sklearn.preprocessing import LabelEncoder\n",
        "\n",
        "# Load your trained model\n",
        "model = joblib.load('/content/drive/MyDrive/SVMC_small.joblib')\n",
        "\n",
        "def add_bg_from_gradient():\n",
        "    st.markdown(\n",
        "        \"\"\"\n",
        "        <style>\n",
        "        .stApp {\n",
        "            background: linear-gradient(180deg, rgba(58,123,213,1) 0%, rgba(0,210,255,1) 100%);\n",
        "            color: #ffffff;\n",
        "        }\n",
        "        </style>\n",
        "        \"\"\",\n",
        "        unsafe_allow_html=True\n",
        "    )\n",
        "\n",
        "add_bg_from_gradient()\n",
        "\n",
        "image_path = '/content/drive/MyDrive/DALL·E 2024-10-28 23.05.16 - A haunting animated scene depicting acute pancreatitis and its effects, with human anatomy as a central focus, surrealistic elements to show disease p.webp'  # Local path\n",
        "\n",
        "    # Display the image\n",
        "st.image(image_path, caption='Death due to Acute Pancreatitis & other diseases', width = 300)\n",
        "\n",
        "def disease_selection():\n",
        "  df = pd.read_csv(\"/content/drive/MyDrive/High_LP_Scan_AP_Comorbidities_Dataset.csv\")\n",
        "\n",
        "  disease_dummies = pd.get_dummies(df['long_title'])\n",
        "  data = pd.concat([df, disease_dummies], axis=1).drop('long_title', axis=1)\n",
        "\n",
        "  # aggregate all the rows into unique patients based on subject_id\n",
        "  aggregated_data = data.groupby('subject_id').agg({\n",
        "      'lipase_level': 'first',\n",
        "      'age': 'first',\n",
        "      'gender': 'first',\n",
        "      'race': 'first',\n",
        "      'in_hospital_death': 'max',  # If death recorded in any row, we consider the patient deceased\n",
        "      'length_of_stay': 'first',\n",
        "      **{col: 'max' for col in disease_dummies.columns}  # max for binary disease presence across multiple rows\n",
        "  }).reset_index()\n",
        "\n",
        "  # grouping all variants of AP into single column\n",
        "  columns_to_drop = [col for col in aggregated_data.columns if 'acute pancreatitis' in col.lower()]\n",
        "\n",
        "  aggregated_data.drop(columns = columns_to_drop, inplace = True)\n",
        "\n",
        "  X = aggregated_data.drop(['subject_id', 'in_hospital_death'], axis = 1)\n",
        "\n",
        "  y = aggregated_data['in_hospital_death'].astype(int)  # Converting boolean to int\n",
        "\n",
        "  X_encoded = X.apply(LabelEncoder().fit_transform)\n",
        "\n",
        "# Apply Chi-squared test\n",
        "  chi2_features = SelectKBest(score_func = chi2, k = 'all')  # 'all' to test each feature\n",
        "  chi2_features.fit(X_encoded, y)\n",
        "  chi2_scores = pd.DataFrame(chi2_features.scores_, columns = ['score'], index = X.columns)\n",
        "  chi2_p_values = pd.DataFrame(chi2_features.pvalues_, columns = ['p-value'], index = X.columns)\n",
        "  chi2_results = pd.concat([chi2_scores, chi2_p_values], axis=1)\n",
        "\n",
        "  significant_features = chi2_results[chi2_results['p-value'] < 0.05]\n",
        "  return list(significant_features.index)[3:]+[\"Acute pancreatitis\"]\n",
        "\n",
        "disease_list = disease_selection()\n",
        "\n",
        "# Function to make predictions\n",
        "def predict_mortality(input_data):\n",
        "    probability_of_death = model.predict_proba(input_data)[:, 1]\n",
        "    return probability_of_death[0]\n",
        "\n",
        "# Creating the sidebar for input\n",
        "st.sidebar.header('Patient Input Features')\n",
        "def user_input_features():\n",
        "    age = st.sidebar.slider('Age', 0, 120, 50)\n",
        "    gender = st.sidebar.selectbox('Gender', ('M', 'F'))\n",
        "    race = st.sidebar.selectbox('Race', set(pd.read_csv('/content/drive/MyDrive/High_LP_Scan_AP_Comorbidities_Dataset.csv')['race']))\n",
        "    lipase_level = st.sidebar.number_input('Lipase Level', min_value=100.0, max_value=30000.0, value=1000.0)\n",
        "    length_of_stay = st.sidebar.number_input('Length of Stay', min_value=0.0, max_value=365.0, value=5.0)\n",
        "\n",
        "    # Dynamic disease selection using multiselect\n",
        "    selected_diseases = st.sidebar.multiselect('Select Diseases', disease_list)\n",
        "\n",
        "    # Create DataFrame from input data\n",
        "    data = {\n",
        "        'age': [age],\n",
        "        'gender': [gender],\n",
        "        'race': [race],\n",
        "        'lipase_level': [lipase_level],\n",
        "        'length_of_stay': [length_of_stay],\n",
        "    }\n",
        "\n",
        "    # Add diseases as binary features\n",
        "    for disease in disease_list:\n",
        "        data[disease] = [True if disease in selected_diseases else False]\n",
        "\n",
        "    features = pd.DataFrame(data)\n",
        "    return features\n",
        "\n",
        "input_df = user_input_features()\n",
        "\n",
        "# Display the input features\n",
        "st.header('Specified Input features')\n",
        "st.write(input_df)\n",
        "\n",
        "# Prediction button\n",
        "if st.button('Predict Mortality Risk'):\n",
        "    prediction = predict_mortality(input_df)\n",
        "    st.header('Prediction')\n",
        "    st.write(f'Probability of Death: {prediction:.2%}')\n"
      ],
      "metadata": {
        "colab": {
          "base_uri": "https://localhost:8080/"
        },
        "id": "i5Mld4PqWyQD",
        "outputId": "6d904c50-f1a2-4777-ff6e-5dd1c69f8e19"
      },
      "execution_count": 10,
      "outputs": [
        {
          "output_type": "stream",
          "name": "stdout",
          "text": [
            "Writing app.py\n"
          ]
        }
      ]
    },
    {
      "cell_type": "code",
      "source": [
        "ngrok.set_auth_token(\"\")"
      ],
      "metadata": {
        "id": "eK3otCoZXQpT",
        "colab": {
          "base_uri": "https://localhost:8080/"
        },
        "outputId": "6fd1fe21-659a-43e2-da8c-de052c870439"
      },
      "execution_count": 11,
      "outputs": [
        {
          "output_type": "stream",
          "name": "stdout",
          "text": []
        }
      ]
    },
    {
      "cell_type": "code",
      "source": [
        "# Start Streamlit app\n",
        "import os\n",
        "os.system(\"streamlit run app.py &\")\n",
        "\n",
        "# Open a ngrok tunnel to the streamlit port\n",
        "public_url = ngrok.connect(8501)\n",
        "print(f\"Streamlit app is live at {public_url}\")"
      ],
      "metadata": {
        "colab": {
          "base_uri": "https://localhost:8080/"
        },
        "id": "70R45fRLXSlT",
        "outputId": "bf15f331-94fd-4d05-9192-60c799837add"
      },
      "execution_count": 13,
      "outputs": [
        {
          "output_type": "stream",
          "name": "stdout",
          "text": [
            "Streamlit app is live at NgrokTunnel: \"https://c155-35-227-74-54.ngrok-free.app\" -> \"http://localhost:8501\"\n"
          ]
        }
      ]
    },
    {
      "cell_type": "code",
      "source": [
        "tunnels = ngrok.get_tunnels()\n",
        "tunnels\n",
        "\n",
        "# try:\n",
        "#     # Block until CTRL-C or some other terminating event\n",
        "#     ngrok_process.proc.wait()\n",
        "# except KeyboardInterrupt:\n",
        "#     print(\" Shutting down server.\")\n",
        "\n",
        "ngrok.kill()"
      ],
      "metadata": {
        "id": "YEJ6EdYXanAR"
      },
      "execution_count": 12,
      "outputs": []
    }
  ]
}